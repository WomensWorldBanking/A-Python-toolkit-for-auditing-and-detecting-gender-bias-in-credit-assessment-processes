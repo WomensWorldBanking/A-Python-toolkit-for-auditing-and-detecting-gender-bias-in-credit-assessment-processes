{
 "cells": [
  {
   "cell_type": "markdown",
   "id": "5e9e0596",
   "metadata": {},
   "source": [
    "# <span style='color:Blue'> CHECK YOUR BIAS:   </span>\n",
    "## <span style='color:Blue'> A PYTHON TOOLKIT FOR FAIR LENDING  </span>"
   ]
  },
  {
   "cell_type": "markdown",
   "id": "33623da4",
   "metadata": {},
   "source": [
    "#### Summary: This toolkit explores small subset of ideas and techniques of auditing gender bias in credit assessment processes. For a comprehensive discussion of gender bias and fairness in credit assessment, see Women’s World Banking’s “Algorithmic Bias, Financial Inclusion, and Gender,” or our most recent publication, “Check Your Bias! A Field Guide for Lenders,” both available on the Women’s World Banking website. Questions or comments on this toolkit? Email Women’s World Banking at info@womensworldbanking.org."
   ]
  },
  {
   "cell_type": "markdown",
   "id": "b63783e5",
   "metadata": {},
   "source": [
    "######  Learning objectives:\n",
    "###### • Increase awareness about different types of gender bias that may manifest in credit assessment processes\n",
    "###### • Explore and detect gender biases and their sources in credit assessment processes"
   ]
  },
  {
   "cell_type": "markdown",
   "id": "78b111e7",
   "metadata": {},
   "source": [
    "***"
   ]
  },
  {
   "cell_type": "markdown",
   "id": "6237a8ee",
   "metadata": {},
   "source": [
    "## <span style='color:Green'> Part I - Introduction (context and concepts)  </span>\n"
   ]
  },
  {
   "cell_type": "markdown",
   "id": "54e1a2b9",
   "metadata": {},
   "source": [
    "##### Project background: \n",
    "Women’s World Banking, in partnership with the University of Zurich (UZH) and support from data.org, set out on a two-year technical assistance project with three financial institutions based in India, Mexico, and Colombia. With each institution, we conducted a thorough gender bias audit across either their entire credit portfolio or a particular credit product line/product. \n",
    "\n",
    "Our goal in creating this GitHub page is to convey our insights from these three collaborations and share the approach to auditing gender bias. \n",
    "\n",
    "##### Who is the audience for this toolkit?\n",
    "This toolkit is an open-source package associated with the “Check Your Bias! A Field Guide for Lenders” report (available on Women’s World Banking website). It is specifically developed for professionals who are familiar with data science and Python programming and are interested in advocating for fair lending. Examples include data scientists working with financial services providers, coders, risk specialists, and finance professionals who facilitate credit access.\n",
    "\n",
    "##### Prerequisites for using this toolkit: \n",
    "a. Statistical foundations: Familiarity with multiple linear regression, logistic regression, foundations of causal inference, regression discontinuity, and matching techniques.\n",
    "b. A working knowledge of:\n",
    "- How to write a function in Python\n",
    "- How to use Python packages such as numpy, pandas, seaborn, scipy, and statsmodel\n",
    "- Basic familiarity with Python data structures  \n",
    "\n",
    "##### What is the core question we are trying to answer in this toolkit?\n",
    "“Is a particular credit product fair for women applicants?” \n",
    "\n",
    "This question is placed at the core of our approach to auditing for gender bias. To have an acceptable and precise response to this question, an institution needs to have a clear understanding of fairness, bias, and how/where a range of biases may arise. We start a quick overview of these concepts. \n",
    "\n",
    "##### Defining and measuring fairness\n",
    "Fairness is an intricate and multidimensional concept. Its definition depends on both context and culture.\n",
    "\n",
    "Each institution needs to develop/adopt a definition of fairness that everyone within the organization understands and supports. By referring to its own definition of fairness, an institution can benchmark its progress and assess the relative risks of bias. We do not go into the dozens of definitions of fairness here. Instead, we recommend the interested readers to look into the Verma and Rubin (2018) paper on definitions of fairness (https://fairware.cs.umass.edu/papers/Verma.pdf). In broad terms, however, approaches to measuring fairness can be separated into 1) those that promote group-level fairness and 2) those that move towards individual-level fairness.\n",
    "\n",
    "Group-based fairness measurement rests on the logic of treating different groups equally. They aggregate the measurement values for each pair of groups and compare the unconditional outcomes of a classification algorithm for those groups. The group that an individual belongs to is indicated by its sensitive attribute. In our case, the sample split and comparison is between women and men applicants. Most approaches to evaluating group-based fairness use metrics based on the binary classification confusion matrix to define fairness.\n",
    "\n",
    "Individual-based fairness measurement rests on the assumption that similar individuals should be treated as similarly as possible. Analyses falling under an individual-based approach try to demonstrate fairness (or the lack thereof) by identifying treatment differences between nearly identical groups of people. In practice, this is commonly done through highly conditional analyses, including those that use quasi-experimental (or even experimental) approaches.\n",
    "\n",
    "Key takeaway: An institution needs to develop/adopt its own definition of fairness based on its strategic goals and cultural contexts. Ways of measuring fairness—including individual-level and group-level fairness—can fit a range of definitions.\n",
    "\n",
    "##### What is bias?\n",
    "In this toolkit, when we talk about bias we are referring to unfair bias or discrimination. Under a discriminatory process, some prioritized groups receive a systematic advantage, and other groups are placed at a systematic disadvantage. Biases can be based on race, color, religion or creed, national origin or ancestry, sex (including gender, pregnancy, sexual orientation, and gender identity), age, physical or mental disability, veteran status, genetic information, citizenship, or other distinguishing factors. Among all these biases, we focus exclusively on gender bias. Throughout this toolkit, bias refers to gender bias, but the toolkit can be adapted to a range of biases including those listed above.  \n",
    "\n",
    "##### Fairness in lending\n",
    "We briefly explained what bias and fairness are. Gender-based bias in lending happens when a credit process makes credit decisions that are systemically prejudiced against certain people or groups of different genders. This type of bias stems from a variety of sources. Loan officers can exhibit bias as they assess creditworthiness through interviews and observation. Algorithms assessing applicants' creditworthiness can introduce bias. Other times, data itself can be imbalanced and introduce bias to the algorithm. \n",
    "\n",
    "To demonstrate how to assess fairness in credit portfolios, we focus on approved and rejected credit applications and do not include pending, missing, or withdrawal cases in the audit bias practice. Taking this approach, we consider fairness among:\n",
    "a. Approved applicants: Those applicants who have received credit may receive unfair credit decisions related to credit offers (loan approval), credit scores, loan terms (loan amount, interest rate, and collateral), and loan maturity.\n",
    "b. Rejected applicants: Those applicants who have not received credit may have been unfairly denied credit due to their gender. \n",
    "\n",
    "For those looking for a simple way to start (without having to use more advanced statistical techniques), Women’s World Banking and University of Zurich designed a scorecard for any type of lender to use to assess fairness across six common dimensions. Paying attention to these indicators, particularly over time, will offer institutions the opportunity to identify areas for improvement. Since not all credit processes are the same, the list of fairness-related questions that an institution will ask might vary, and we hope institutions will interpret and adapt these questions to their needs. The six dimensions of fairness in the scorecard are: credit score, approval rate, credit amount, interest rate, collateral amount, and characteristics of rejected candidates. To read the complete descriptions of these dimensions and how to measure them use the following link: https://www.womensworldbanking.org/insights-and-impact/check-your-bias-gender-bias-scorecard-for-lenders/\n",
    "\n",
    "##### A short introduction to key credit concepts:\n",
    "- Credit risk: The probability of a loss resulting from a borrower failing to meet contractual credit obligations.\n",
    "- Credit score: A numerical expression of a credit applicant's perceived risk, predicting the creditworthiness of an individual. Can be based on a credit report coming a credit bureau or can be based on a financial service provider's internal calculations and risk modeling. \n",
    "- Loan performance: An indicator of whether a customer is (or group of customers are) making their loan installments on time and in full, or whether a customer is (or group of customers are) in default, measured against the obligations defined in the credit contract. \n",
    "- In this toolkit, we use the terms \"credit\" and \"loan\" interchangeably. "
   ]
  },
  {
   "cell_type": "markdown",
   "id": "04054a67",
   "metadata": {},
   "source": [
    "***"
   ]
  },
  {
   "cell_type": "markdown",
   "id": "df19f007",
   "metadata": {},
   "source": [
    "## <span style='color:Green'> Part II  - Approved applicants</span>\n",
    "### <span style='color:Green'> Using descriptive and inferential statistics to audit for gender bias in credit processes </span>"
   ]
  },
  {
   "cell_type": "markdown",
   "id": "30bca69e",
   "metadata": {},
   "source": [
    "### <span style='color:purple'> Step 0. General - Think about these questions before writing your code!:  </span>\n",
    "\n",
    "\n",
    "* When auditing for gender bias, ask yourself:\n",
    "    - How does the lender measure risk among different segments of its customers?\n",
    "    - If this dataset is biased, should I expect to see that bias in the data features or data labels?\n",
    "    - Do all customers apply through the same channel (app, physical branch, website ...)? If not, do customers coming from different branches experience different approval criteria?\n",
    "    - How does the FSP measure risk among different segments of its customers?\n",
    "    - After assessing risk, what are the steps/processes that the lender takes to make credit decisions?\n",
    "    - How do feedback loops work in your credit processes?    \n",
    "\n",
    "\n",
    "* When auditing for gender bias, remember and pay close attention to these points:\n",
    "    - Protected attributes such as gender should not be part of the predictors used by the algorithm or loan officers to make decisions about credits.\n",
    "    - You cannot assess the fairness of a credit algorithm without knowing the variables used (Corbett-Davies, 2018).\n",
    "    - Pay close attention to customers who slightly fall above or below the risk thresholds that you have considered for defining the risk categories."
   ]
  },
  {
   "cell_type": "markdown",
   "id": "fd3122f0",
   "metadata": {},
   "source": [
    "### <span style='color:purple'> Step 1. Descriptive statistics and understanding your data.  </span>\n",
    "\n",
    "###### Ask yourself - Questions on the time windows that your data covers\n",
    "* What is the time window that your data covers? \n",
    "Warning: If this time window is too short, you need to be careful about statistical inferences that you make based on this data. \n",
    "* For each gender, separately, plot a time series that shows how many people have applied for credit in a specific time window. \n",
    "Using these time series, you can see if there were specific time windows in which a sharp decrease/increase in lending had have happened. In addition, you can notice the main differences between men and women applications' patterns. \n",
    "* Do you see any data anomalies at any specific point in time?\n",
    "Recommendation: We suggest to take one extra step and study the applications time series for each application channel seperately and study the differences between applications that come from digital channels and physical channels separately.\n",
    "\n",
    "###### Ask yourself - Questions abour balanced dataset \n",
    "* What percentage of applicants are men and what percentage of them are women? If the proportion of women and men applicants is significantly different (unbalanced dataset), that should ring a bell. Algorithms can deal with unbalanced datasets; however, that requires special treatments and deploying the right techniques. \n",
    "A field obsevation: Our field experience shows that some FSPs do not pay enough attention/are not well aware about the challenges that an unbalanced dataset can create.  \n",
    "\n",
    "###### Ask yourself - Questions about loan officers:\n",
    "* If you have information on the loan officers, check the summary statistics on your loan officers too.\n",
    "* What percentage of loan officers are men and what percentage are women?\n",
    "* Do you see strong correlation between gender of a loan officer and the credit approval rate?\n",
    " \n",
    "None of the questions that we raised above would indicate the presence of bias in your dataset. However, each question \n",
    "can give you a hint on where bias may exist and how it might have sneaked into your credit process.  "
   ]
  },
  {
   "cell_type": "markdown",
   "id": "6a9ffb88",
   "metadata": {},
   "source": [
    "###### Data:\n",
    "Now we are ready to start our journey of auditing gender bias using statistical methods. We use Python in this toolkit, but the concepts here can be easily translated into other statistical software. \n",
    "To better understand how an auditor can use these techniques in practice, we demonstrate how to implement each step using a dummy dataset. You can find this dataset and the code that generates it in the project GitHub page. When designing this dataset, we tried to make it look similar to the datasets that we had received from our lending partners. This dummy data consists of three main components:\n",
    "1. Input data: A dataset on which a lender bases its credit decisions. This dataset usually contains basic demographic and socio-economic information, institution-level borrowing history, credit bureau data, and alternative data if available.\n",
    "2. Output data: This dataset shows whether a credit application has been approved. \n",
    "* If the application is approved, the output dataset shares information on the credit terms of each approved application. \n",
    "* If the application is rejected, the output dataset contains information on why the application was rejected. \n",
    "3. Repayment performance data: This dataset shows the loan performance of those customers who have received loans.\n",
    " "
   ]
  },
  {
   "cell_type": "markdown",
   "id": "9eb0baec",
   "metadata": {},
   "source": [
    "##### <span style='color:red'> Code 0:  </span>\n"
   ]
  },
  {
   "cell_type": "markdown",
   "id": "4282ebf8",
   "metadata": {},
   "source": [
    "Import packages"
   ]
  },
  {
   "cell_type": "code",
   "execution_count": 9,
   "id": "818563d9",
   "metadata": {},
   "outputs": [],
   "source": [
    "import os \n",
    "import emoji\n",
    "import numpy as np\n",
    "import pandas as pd\n",
    "import matplotlib.pyplot as plt                               # used for data visualization\n",
    "import seaborn as sns                                         # used for data visualization\n",
    "from sklearn.linear_model import LogisticRegression           # used for data audit bias\n",
    "from scipy.stats import ttest_ind, ttest_ind_from_stats       # used for data audit bias - balance tests\n",
    "import patsy                                                  # a Python package for describing statistical models (especially linear models, or models that have a linear component) and building design matrices.\n",
    "import statsmodels.api as sm                                  # used in modeling\n",
    "import statsmodels.formula.api as smf                         # used in modeling\n",
    "from IPython.display import HTML                              # used in print statement\n",
    "from termcolor import colored                                 # used in print statement\n",
    "from colorama import Fore, Back, Style                        # used in print statement\n",
    "from termcolor import colored                                 # used in print statement"
   ]
  },
  {
   "cell_type": "markdown",
   "id": "62120ba0",
   "metadata": {},
   "source": [
    "Set directory and import the data"
   ]
  },
  {
   "cell_type": "code",
   "execution_count": 10,
   "id": "bd4d4993",
   "metadata": {},
   "outputs": [],
   "source": [
    "os.chdir('C:\\\\Users\\mm\\Downloads')       # set up the directory\n",
    "os.getcwd()                              # check your assigned directory to make sure it works properly. \n",
    "\n",
    "df_all = pd.read_excel('df_dummy.xlsx')  # import dataset - The code that creates this data as \n",
    "                                         # well as the data itself in Excelsheet format is stored \n",
    "                                         # on the project GitHub page.\n",
    "\n",
    "# create seperate datasets for women and men applicants (sex disaggregated data)\n",
    "# in the next steps, we use these two datasets. \n",
    "df_female = df_all.loc[df_all['Gender'] == 'Female']\n",
    "df_male = df_all.loc[df_all['Gender'] == 'Male']"
   ]
  },
  {
   "cell_type": "markdown",
   "id": "c1e48932",
   "metadata": {},
   "source": [
    "#####  Data preprocessing\n",
    "##### Creating risk categories:\n",
    "What is risk categorization and how can we create risk categories? \n",
    "Some FSPs use algorithm/rule based methods to categorize their customers into risk buckets. Categorizing customers into\n",
    "one of these predefined risk categories helps FSPs to make quicker credit decisions. Although risk categorization can help \n",
    "FSPs, it can bring some costs too (we have briefly mentioned some of these costs in the 'CHECK YOUR BIAS! A FIELD GUIDE FOR LENDERS' report). \n",
    "\n",
    "One common way of risk categorization is to categorize applicants into low risk, medium risk, and high risk. Applicants categorized as low risk may receive credit approval without the necessity of going through any further investigation.\n",
    "Medium-risk applicants may receive home visits or video calls to obtain additional information (e.g., on their sources of income, upcoming expenses, etc.). With the risk categorization and these additional pieces of information, a loan officer makes the final credit decision. Applicants with high credit risk are likely to be rejected, with a portion being offered the opportunity to go through an interview process, after which they sometimes receive a loan. These high-risk applicants often need a guarantor or collateral, provided they get loan disbursement approval.\n",
    "- Creating risk categories:\n",
    "After explaining what risk categorization is and how an FSP may use it, we need to learn how we can create risk categories.\n",
    "Among many different approaches that an FSP can take to define risk categories, using credit/model scores is one of the common ones. In this approach, risk managers and risk analysts use their subject matter expertise and experience and define different risk buckets using credit scores. The following piece of code helps you to better understand how you can do this work.    "
   ]
  },
  {
   "cell_type": "markdown",
   "id": "c736821c",
   "metadata": {},
   "source": [
    "##### <span style='color:red'> Code 1:  </span>\n"
   ]
  },
  {
   "cell_type": "markdown",
   "id": "45fbe9f8",
   "metadata": {},
   "source": [
    "To conduct risk categorization, we build three functions; 'pre_for_risk_categorization', 'threshold_maker', and 'main_risk_categorization'. The first two, are prerequisites for the last one, which is 'main_risk_categorization'.\n",
    "* pre_for_risk_categorization: it asks the user to enter its desired number of risk categories.\n",
    "It evaluates the user input and if it is not a valid input, it returns an error and asks the user to try again. This function does not accept more than four categories. By experience, we learnt that financial institutions do not have more than four risk categories. However, the user can easily modify the code and add more categories; if necessary.\n",
    "* threshold_maker: It asks the user to enter the thresholds that define each risk category. \n",
    "* main_risk_categorization: This function uses the output of the previous two functions and creates a new variable called 'Risk_Category'. \n",
    "\n",
    "example) if an auditor declares to the function that he/she/they needs three risk categories and those categories are defined by some thresholds such as 400 and 500, your risk categories would become:\n",
    "[minimum credit score - 400], [400-500], and [500 - maximum credit score]\n"
   ]
  },
  {
   "cell_type": "code",
   "execution_count": 11,
   "id": "877702e3",
   "metadata": {},
   "outputs": [],
   "source": [
    "def pre_for_risk_categorization():   \n",
    "    def risk_category():\n",
    "        global number_categories\n",
    "        while True:\n",
    "            number_categories = input('How many risk categories do you have? ')\n",
    "            try:\n",
    "                val = int(number_categories)\n",
    "                if (val > 1 and val <= 4):   # if you need more than 4 risk categories, change 4 to your desired number\n",
    "                    number_categories = val                      \n",
    "                    break  \n",
    "\n",
    "                elif (val <= 0 or val > 7):  # if you need more than 4 risk categories, change 4 to your desired number\n",
    "                    print('your input cannot be a negative number or a number larger than 4! ')\n",
    "\n",
    "            except ValueError:\n",
    "                print(\"Error. Please enter an integer!\")  \n",
    "##########################################################\n",
    "    threshold_list = []\n",
    "    def threshold_maker(): \n",
    "        while len(threshold_list) < (number_categories - 1):\n",
    "            thresholds = input('Insert the credit score thresholds defining the boundaries of each risk category.')    \n",
    "            try:\n",
    "                val = int(thresholds)\n",
    "                if (val > 0):\n",
    "                    threshold_list.append(val)\n",
    "                \n",
    "                elif (val <= 0):  \n",
    "                    print('your input cannot be a negative number!')\n",
    "            except ValueError:\n",
    "                print(\"Error. Please enter an integer!\")  \n",
    "\n",
    "    risk_category()\n",
    "    threshold_maker()\n",
    "    threshold_list = sorted(threshold_list)\n",
    "    \n",
    "    return threshold_list"
   ]
  },
  {
   "cell_type": "markdown",
   "id": "8295775d",
   "metadata": {},
   "source": [
    "main_risk_categorization function takes two argument:\n",
    "* argument 1: df is a dataframe object  \n",
    "* argument 2: var is the name of the variable used for credit score variable"
   ]
  },
  {
   "cell_type": "code",
   "execution_count": 12,
   "id": "cc6c1db3",
   "metadata": {},
   "outputs": [],
   "source": [
    "def main_risk_categorization(df, var): \n",
    "    \n",
    "    if number_categories == 2:         # If you need more than 4 categories, add the required number of if statements here in this section\n",
    "        if (df[var] <= threshold_list[0]):\n",
    "            val = 1                    \n",
    "        else:\n",
    "            val = 2\n",
    "    if number_categories == 3:\n",
    "        if (df[var] <= threshold_list[0]):\n",
    "            val = 1                    \n",
    "        elif (df[var] > threshold_list[0] and df[var] <= threshold_list[1]):\n",
    "            val = 2\n",
    "        else:\n",
    "            val = 3\n",
    "    if number_categories == 4:\n",
    "        if (df[var] <= threshold_list[0]):\n",
    "            val = 1                    \n",
    "        elif (df[var] > threshold_list[0] and df[var] <= threshold_list[1]):\n",
    "            val = 2\n",
    "        elif (df[var] > threshold_list[1] and df[var] <= threshold_list[2]):\n",
    "            val = 3\n",
    "        else:\n",
    "            val = 4\n",
    "    return val         "
   ]
  },
  {
   "cell_type": "markdown",
   "id": "e216d808",
   "metadata": {},
   "source": [
    "##### <span style = 'color:orange'> Example 1:  </span>"
   ]
  },
  {
   "cell_type": "code",
   "execution_count": 13,
   "id": "9f8ee3be",
   "metadata": {},
   "outputs": [
    {
     "name": "stdout",
     "output_type": "stream",
     "text": [
      "How many risk categories do you want to have? 3\n",
      "Insert the credit score thresholds defining the boundaries of each risk category.400\n",
      "Insert the credit score thresholds defining the boundaries of each risk category.500\n"
     ]
    }
   ],
   "source": [
    "threshold_list = pre_for_risk_categorization()\n",
    "df_all['Risk_Category'] = df_all.apply(main_risk_categorization, args = ('Credit_Score',), axis = 1) "
   ]
  },
  {
   "cell_type": "markdown",
   "id": "40999990",
   "metadata": {},
   "source": [
    "###### Ask yourself - Questions on missing data\n",
    "* Are there missing values on a specific feature for a large number of applicants?\n",
    "* Are these missing features affecting the precision of other features in your data set?\n",
    "* Do you see different patterns of missing values between men and women applicants? "
   ]
  },
  {
   "cell_type": "markdown",
   "id": "a81d3e9d",
   "metadata": {},
   "source": [
    "##### <span style='color:red'> Code 2:  </span>\n"
   ]
  },
  {
   "cell_type": "markdown",
   "id": "da942d4e",
   "metadata": {},
   "source": [
    "missing_stat is a function that shows the percentage of missing values in each column broken down by gender. This function takes two arguments. \n",
    "* argument 1. a dataframe object containing only women applicants \n",
    "* argument 2. a dataframe object containing only men applicants. "
   ]
  },
  {
   "cell_type": "code",
   "execution_count": null,
   "id": "db210d4c",
   "metadata": {},
   "outputs": [],
   "source": [
    "def missing_stat(df_f, df_m):\n",
    "    print(colored('Percentage of missing values in each column - broken down by gender:', 'blue', attrs = ['bold']))\n",
    "    print()\n",
    "    f_miss = (np.round(df_f.isna().sum()/len(df_f),2)).to_frame(name = '# % of missing - Women applicants')\n",
    "    m_miss = (np.round(df_m.isna().sum()/len(df_m),2)).to_frame(name = '# % of missing - Men applicants')\n",
    "    missing_data = pd.concat([f_miss, m_miss], axis = 1)\n",
    "    print(missing_data)"
   ]
  },
  {
   "cell_type": "markdown",
   "id": "7dae9c7e",
   "metadata": {},
   "source": [
    "##### <span style='color:orange'> Example 2:  </span>"
   ]
  },
  {
   "cell_type": "code",
   "execution_count": null,
   "id": "d0c18f7c",
   "metadata": {},
   "outputs": [],
   "source": [
    "missing_stat(df_female, df_male) "
   ]
  },
  {
   "cell_type": "markdown",
   "id": "79be17ec",
   "metadata": {},
   "source": [
    "###### Ask yourself - Questions on feature values and representativeness of your sample\n",
    "* Do you have access to the whole portfolio dataset or only a sample from the portfolio?\n",
    "* If you only have access to a sample of a portfolio, is this sample representative of the whole population? \n",
    "* Who provided this sample and what was the sampling strategy?   \n",
    "* Are there unexpected feature values? \n",
    "Are there features that contain values that stand out as uncharacteristic or unusual. If that is the case, it can be an indication that some sort of inaccuracies have sneaked into your dataset and it may introduce bias.\n",
    "* Which applicant segments are being underrepresented? \n",
    "* How do the variables, and their values, reflect the real values that you expect from the portfolio?\n",
    "* Are there signs of data skew? If yes, why do you see such a skewness? \n",
    "* Do men and women applicants have systematic differences in their average characteristics (age, income, expenses, occupations, marital status, number of years they have relationship with the FSP ...)?\n",
    "* Do men and women applicants have systematic differences in their loan terms (interest rate, loan size, the gap between approved credit and requested credit amount, loan maturity, credit scores, collateral type, collateral amount ...)?"
   ]
  },
  {
   "cell_type": "markdown",
   "id": "de68aae0",
   "metadata": {},
   "source": [
    "##### <span style='color:red'> Code 3:  </span>\n"
   ]
  },
  {
   "cell_type": "markdown",
   "id": "11879d0a",
   "metadata": {},
   "source": [
    "descriptive_stat_I_display is a function that provides you with a general idea on how many applicants and how many applications you have in your dataset; while it is broken down by gender.\n",
    "This function takes 6 arguments.\n",
    "* df: a dataframe object containing all the records in your portfolio\n",
    "* df_f: a dataframe object containing records of all the women in your portfolio\n",
    "* df_m: a dataframe object containing records of all the men in your portfolio\n",
    "* customer_ID: name of the variable that you use as the unique customer ID\n",
    "* application_ID: name of the variable that you use as the unique application ID\n",
    "  It is possible that one customer has a couple of application IDs, because he/she might have received more than one credit/loan.\n",
    "* balance_ratio: takes a numerical value (float) greater than zero and smaller than one.\n",
    "  This argument aims to capture how gender balanced your portfolio is. The user sets a value (for example, 0.7) based on his/her opinion. If the portfolio's gender ratio is above this threshold (0.7, for example), the portfolio would be considered highly gender unbalanced.\n",
    "\n",
    "\n",
    "\n",
    "** \n",
    "\n",
    "gender ratio =\n",
    "\n",
    "max\n",
    "\n",
    "(\n",
    "\n",
    "(total number of female observations / total number of male observations)\n",
    "\n",
    "or\n",
    "\n",
    "(total number of male observations / total number of female observations)\n",
    "\n",
    ")"
   ]
  },
  {
   "cell_type": "code",
   "execution_count": 27,
   "id": "2e1f3bf3",
   "metadata": {},
   "outputs": [],
   "source": [
    "def descriptive_stat_I_display(df, df_f, df_m, customer_ID, application_ID, balance_ratio): \n",
    "       \n",
    "    print('Total number of observations in the portfolio is:', df.shape[0])\n",
    "    print('Total number of features in the portfolio is:', df.shape[1])\n",
    "    print('Total number of applicants in the dataset is:', df[str(customer_ID)].nunique())\n",
    "    print('Total number of applicants in the dataset is:', df[str(customer_ID)].nunique())\n",
    "    print('Total number of applications in the dataset is:', df[str(application_ID)].nunique())  # An applicant may have couple of applications!\n",
    "    print('........')\n",
    "    print('Total number of women applicants in the dataset is:', df_f[str(customer_ID)].nunique())\n",
    "    print('Total number of men applicants in the dataset is:', df_m[str(customer_ID)].nunique())\n",
    "    print('........')\n",
    "    print('Total number applications placed by women applicants is:', df_f[str(application_ID)].nunique())\n",
    "    print('and')\n",
    "    print('Total number applications placed by men applicants is:', df_m[str(application_ID)].nunique())\n",
    "\n",
    "    # The ratio below (Gender_Balance_Ratio) shows the ratio of 'total # of men'/'total # of women' applications. \n",
    "    # This ratio can help an auditor to understand how gender balanced the portfolio is. There is no clear cut rule on when\n",
    "    # we can consider a dataset balanced and when we cannot. If one gender has more than 65 percent presence in the dataset,\n",
    "    # we consider it as an unbalanced dataset. However, you can come up with your own threshold and use that to assess balance in \n",
    "    # your dataset. \n",
    "    print('........')\n",
    "    Gender_Balance_Ratio = df_m[str(application_ID)].nunique()/(df_f[str(application_ID)].nunique() + df_m[str(application_ID)].nunique())\n",
    "   \n",
    "    Gender_Balance_Ratio_test = max(Gender_Balance_Ratio, (1 - Gender_Balance_Ratio)) \n",
    "    balance_ratio_test = max(balance_ratio, (1 - balance_ratio))\n",
    "    \n",
    "    if Gender_Balance_Ratio_test > balance_ratio_test:\n",
    "        print(emoji.emojize('The portfolio \"is\" highly gender unbalanced :thumbs_down:'))\n",
    "    else:\n",
    "        print(emoji.emojize('The portfolio is \"not\" gender unbalanced :thumbs_up:'))"
   ]
  },
  {
   "cell_type": "markdown",
   "id": "5c11b7f9",
   "metadata": {},
   "source": [
    "##### <span style='color:orange'> Example 3:  </span>"
   ]
  },
  {
   "cell_type": "code",
   "execution_count": 28,
   "id": "ec0fbf57",
   "metadata": {},
   "outputs": [
    {
     "name": "stdout",
     "output_type": "stream",
     "text": [
      "Total number of observations in the portfolio is: 400\n",
      "Total number of features in the portfolio is: 21\n",
      "Total number of applicants in the dataset is: 400\n",
      "Total number of applicants in the dataset is: 400\n",
      "Total number of applications in the dataset is: 400\n",
      "........\n",
      "Total number of women applicants in the dataset is: 140\n",
      "Total number of men applicants in the dataset is: 260\n",
      "........\n",
      "Total number applications placed by women applicants is: 140\n",
      "and\n",
      "Total number applications placed by men applicants is: 260\n",
      "........\n",
      "The portfolio is \"not\" gender unbalanced 👍\n"
     ]
    }
   ],
   "source": [
    "descriptive_stat_I_display(df_all, df_female, df_male, 'Applicant_ID', 'Application_ID', 0.7)"
   ]
  },
  {
   "cell_type": "markdown",
   "id": "cec516df",
   "metadata": {},
   "source": [
    "*** "
   ]
  },
  {
   "cell_type": "markdown",
   "id": "71f9116c",
   "metadata": {},
   "source": [
    "##### <span style='color:red'> Code 4:  </span>\n"
   ]
  },
  {
   "cell_type": "markdown",
   "id": "acb642f6",
   "metadata": {},
   "source": [
    "descriptive_stat_II_display function lets the auditor compare male and female portfolio variables (only numerical variables).  \n",
    "\n",
    "descriptive_stat_II_display function takes two arguments.\n",
    "* argument 1. a dataframe object containing records of all the women in your portfolio \n",
    "* argument 2. a dataframe object containing records of all the men in your portfolio \n"
   ]
  },
  {
   "cell_type": "code",
   "execution_count": 29,
   "id": "2e8fa805",
   "metadata": {},
   "outputs": [],
   "source": [
    "def descriptive_stat_II_display(df_f, df_m):\n",
    "\n",
    "    # digging into the summary statistics of all portfolio feature values and comparing men and women characteristics.\n",
    "\n",
    "    df_sum_stat_f = df_female.describe()\n",
    "    df_sum_stat_m = df_male.describe()\n",
    "    df_sum_stat = pd.concat([df_sum_stat_f, df_sum_stat_m], keys = [\"Women\", \"Men\"])\n",
    "    # dropping the unnecessary rows to make the table more readable\n",
    "    df_sum_stat.drop(index = ('Women', 'count'), inplace = True)\n",
    "    df_sum_stat.drop(index = ('Women', 'min'), inplace = True)\n",
    "    df_sum_stat.drop(index = ('Women', 'max'), inplace = True)\n",
    "    df_sum_stat.drop(index = ('Men', 'count'), inplace = True)\n",
    "    df_sum_stat.drop(index = ('Men', 'min'), inplace = True)\n",
    "    df_sum_stat.drop(index = ('Men', 'max'), inplace = True)\n",
    "    # printing the summary stats table\n",
    "    return df_sum_stat"
   ]
  },
  {
   "cell_type": "markdown",
   "id": "7c573e98",
   "metadata": {},
   "source": [
    "##### <span style='color:orange'> Example 4:  </span>"
   ]
  },
  {
   "cell_type": "code",
   "execution_count": 30,
   "id": "5ed94749",
   "metadata": {},
   "outputs": [
    {
     "data": {
      "text/html": [
       "<div>\n",
       "<style scoped>\n",
       "    .dataframe tbody tr th:only-of-type {\n",
       "        vertical-align: middle;\n",
       "    }\n",
       "\n",
       "    .dataframe tbody tr th {\n",
       "        vertical-align: top;\n",
       "    }\n",
       "\n",
       "    .dataframe thead th {\n",
       "        text-align: right;\n",
       "    }\n",
       "</style>\n",
       "<table border=\"1\" class=\"dataframe\">\n",
       "  <thead>\n",
       "    <tr style=\"text-align: right;\">\n",
       "      <th></th>\n",
       "      <th></th>\n",
       "      <th>Age</th>\n",
       "      <th>Total_Income</th>\n",
       "      <th>Credit_Score</th>\n",
       "      <th>Loan_Tenure</th>\n",
       "      <th>Interest_Rate</th>\n",
       "      <th>Disbursed_Credit_Amount</th>\n",
       "      <th>Number_of_days_delayed</th>\n",
       "    </tr>\n",
       "  </thead>\n",
       "  <tbody>\n",
       "    <tr>\n",
       "      <th rowspan=\"5\" valign=\"top\">Women</th>\n",
       "      <th>mean</th>\n",
       "      <td>39.792857</td>\n",
       "      <td>6099.464286</td>\n",
       "      <td>458.614286</td>\n",
       "      <td>18.611940</td>\n",
       "      <td>14.701493</td>\n",
       "      <td>4939.074627</td>\n",
       "      <td>8.641791</td>\n",
       "    </tr>\n",
       "    <tr>\n",
       "      <th>std</th>\n",
       "      <td>14.262945</td>\n",
       "      <td>3217.352693</td>\n",
       "      <td>123.739491</td>\n",
       "      <td>6.362664</td>\n",
       "      <td>4.789556</td>\n",
       "      <td>2229.901128</td>\n",
       "      <td>11.682286</td>\n",
       "    </tr>\n",
       "    <tr>\n",
       "      <th>25%</th>\n",
       "      <td>27.000000</td>\n",
       "      <td>4164.750000</td>\n",
       "      <td>357.000000</td>\n",
       "      <td>14.000000</td>\n",
       "      <td>11.500000</td>\n",
       "      <td>2849.500000</td>\n",
       "      <td>0.000000</td>\n",
       "    </tr>\n",
       "    <tr>\n",
       "      <th>50%</th>\n",
       "      <td>39.500000</td>\n",
       "      <td>6098.500000</td>\n",
       "      <td>447.500000</td>\n",
       "      <td>18.000000</td>\n",
       "      <td>14.000000</td>\n",
       "      <td>6844.000000</td>\n",
       "      <td>4.000000</td>\n",
       "    </tr>\n",
       "    <tr>\n",
       "      <th>75%</th>\n",
       "      <td>53.000000</td>\n",
       "      <td>7949.750000</td>\n",
       "      <td>567.000000</td>\n",
       "      <td>23.000000</td>\n",
       "      <td>17.000000</td>\n",
       "      <td>6990.500000</td>\n",
       "      <td>13.500000</td>\n",
       "    </tr>\n",
       "    <tr>\n",
       "      <th rowspan=\"5\" valign=\"top\">Men</th>\n",
       "      <th>mean</th>\n",
       "      <td>41.769231</td>\n",
       "      <td>5974.330769</td>\n",
       "      <td>449.865385</td>\n",
       "      <td>17.785047</td>\n",
       "      <td>14.728972</td>\n",
       "      <td>5045.981308</td>\n",
       "      <td>10.598131</td>\n",
       "    </tr>\n",
       "    <tr>\n",
       "      <th>std</th>\n",
       "      <td>13.597376</td>\n",
       "      <td>3387.305227</td>\n",
       "      <td>123.585468</td>\n",
       "      <td>5.596542</td>\n",
       "      <td>5.096373</td>\n",
       "      <td>2210.177548</td>\n",
       "      <td>12.291936</td>\n",
       "    </tr>\n",
       "    <tr>\n",
       "      <th>25%</th>\n",
       "      <td>31.000000</td>\n",
       "      <td>3753.250000</td>\n",
       "      <td>344.500000</td>\n",
       "      <td>14.000000</td>\n",
       "      <td>11.000000</td>\n",
       "      <td>2997.500000</td>\n",
       "      <td>0.000000</td>\n",
       "    </tr>\n",
       "    <tr>\n",
       "      <th>50%</th>\n",
       "      <td>42.000000</td>\n",
       "      <td>5874.000000</td>\n",
       "      <td>442.500000</td>\n",
       "      <td>17.000000</td>\n",
       "      <td>14.000000</td>\n",
       "      <td>6852.000000</td>\n",
       "      <td>7.000000</td>\n",
       "    </tr>\n",
       "    <tr>\n",
       "      <th>75%</th>\n",
       "      <td>53.250000</td>\n",
       "      <td>8230.750000</td>\n",
       "      <td>548.250000</td>\n",
       "      <td>21.000000</td>\n",
       "      <td>18.000000</td>\n",
       "      <td>7029.000000</td>\n",
       "      <td>17.500000</td>\n",
       "    </tr>\n",
       "  </tbody>\n",
       "</table>\n",
       "</div>"
      ],
      "text/plain": [
       "                  Age  Total_Income  Credit_Score  Loan_Tenure  Interest_Rate  \\\n",
       "Women mean  39.792857   6099.464286    458.614286    18.611940      14.701493   \n",
       "      std   14.262945   3217.352693    123.739491     6.362664       4.789556   \n",
       "      25%   27.000000   4164.750000    357.000000    14.000000      11.500000   \n",
       "      50%   39.500000   6098.500000    447.500000    18.000000      14.000000   \n",
       "      75%   53.000000   7949.750000    567.000000    23.000000      17.000000   \n",
       "Men   mean  41.769231   5974.330769    449.865385    17.785047      14.728972   \n",
       "      std   13.597376   3387.305227    123.585468     5.596542       5.096373   \n",
       "      25%   31.000000   3753.250000    344.500000    14.000000      11.000000   \n",
       "      50%   42.000000   5874.000000    442.500000    17.000000      14.000000   \n",
       "      75%   53.250000   8230.750000    548.250000    21.000000      18.000000   \n",
       "\n",
       "            Disbursed_Credit_Amount  Number_of_days_delayed  \n",
       "Women mean              4939.074627                8.641791  \n",
       "      std               2229.901128               11.682286  \n",
       "      25%               2849.500000                0.000000  \n",
       "      50%               6844.000000                4.000000  \n",
       "      75%               6990.500000               13.500000  \n",
       "Men   mean              5045.981308               10.598131  \n",
       "      std               2210.177548               12.291936  \n",
       "      25%               2997.500000                0.000000  \n",
       "      50%               6852.000000                7.000000  \n",
       "      75%               7029.000000               17.500000  "
      ]
     },
     "execution_count": 30,
     "metadata": {},
     "output_type": "execute_result"
    }
   ],
   "source": [
    "descriptive_stat_II_display(df_female, df_male)"
   ]
  },
  {
   "cell_type": "markdown",
   "id": "5b0a6c72",
   "metadata": {},
   "source": [
    "##### <span style='color:red'> Code 5:  </span>\n"
   ]
  },
  {
   "cell_type": "markdown",
   "id": "a7d86a37",
   "metadata": {},
   "source": [
    "displayer_boxPlot helps you to plot a boxplot to: \n",
    "\n",
    "a. detect the unexpected feature values\n",
    "\n",
    "b. compare feature values between women and men applicants\n",
    "\n",
    "\n",
    "Boxplot is a simple and intuitive visual tool that helps us to detect outliers and see the distribution of a variable.\n",
    "In the case of a credit portfolio analysis, we suggest looking into the distribution of credit scores and interest rate\n",
    "However, these are just some examples/suggestions and we encourage auditors to look into other features such as \n",
    "marital status, employment status, credit purpose, and loan amount too.\n",
    "\n",
    "displayer_boxPlot takes four arguments:\n",
    "* argument 1. a dataframe object  \n",
    "* argument 2. name of the variable the auditor picks as the x variable\n",
    "* argument 3. name of the variable the auditor picks as the y variable\n",
    "* argument 4. name of the variable the auditor picks as hue"
   ]
  },
  {
   "cell_type": "code",
   "execution_count": 31,
   "id": "4e571e3d",
   "metadata": {},
   "outputs": [],
   "source": [
    "def displayer_boxPlot(df, X_val, y_val, hue):\n",
    "    sns.set(rc = {\"figure.figsize\": (8, 6)})    # setting the figure size\n",
    "    sns.set(style = \"whitegrid\")                # setting the background color\n",
    "    sns.boxplot(data = df, x = X_val, y = y_val, hue = 'Credit_Decision', color = \"skyblue\")\n",
    "    plt.legend(loc = 'upper right')\n",
    "    plt.title('Comparing the Approved and Rejected Applicants Credit Score', color = 'blue', fontsize = 14)\n",
    "    plt.show()"
   ]
  },
  {
   "cell_type": "markdown",
   "id": "396dd7be",
   "metadata": {},
   "source": [
    "##### <span style='color:orange'> Example 5:  </span>"
   ]
  },
  {
   "cell_type": "code",
   "execution_count": 32,
   "id": "dbd644e6",
   "metadata": {
    "scrolled": true
   },
   "outputs": [
    {
     "data": {
      "image/png": "[encoded data removed]",
      "text/plain": [
       "<Figure size 576x432 with 1 Axes>"
      ]
     },
     "metadata": {},
     "output_type": "display_data"
    }
   ],
   "source": [
    "# The goal in this example is to compare the credit score distribution between:\n",
    "# a. approved women vs. approved men.\n",
    "# b. rejected women vs. rejected men.\n",
    "displayer_boxPlot(df_all, 'Credit_Score', 'Gender', 'Credit_Decision')"
   ]
  },
  {
   "cell_type": "markdown",
   "id": "a6cd09e2",
   "metadata": {},
   "source": [
    "***"
   ]
  },
  {
   "cell_type": "markdown",
   "id": "3ad6360c",
   "metadata": {},
   "source": [
    "##### <span style='color:red'> Code 6:  </span>\n"
   ]
  },
  {
   "cell_type": "markdown",
   "id": "f7bc27bd",
   "metadata": {},
   "source": [
    "displayer_Probability_Density_Function helps an auditor to plot the probability density function (pdf) of any continuous variable (for example, credit score) and compare the distribution of the variable of interest between women and men applicants. "
   ]
  },
  {
   "cell_type": "code",
   "execution_count": 33,
   "id": "cb1ea07a",
   "metadata": {},
   "outputs": [],
   "source": [
    "def displayer_Probability_Density_Function(df_f, df_m, crd_score): \n",
    "\n",
    "    sns.set(rc = {\"figure.figsize\": (6, 6)})\n",
    "    \n",
    "    sns.distplot(df_f[str(crd_score)], bins = 10, hist = True, kde = True, color = 'blue', \n",
    "                 kde_kws = dict(linewidth = 3), label = 'Women', norm_hist = True)\n",
    "    \n",
    "    sns.distplot(df_m[str(crd_score)], bins = 10, hist = False, kde = True, color = 'red', \n",
    "                 kde_kws = dict(linewidth = 3), label = 'Men', norm_hist = True)\n",
    "\n",
    "    plt.legend(prop = {'size': 12}, title = 'Gender')\n",
    "    plt.title('Distribution of credit score between men and women applicants', color = 'blue', size = 20)\n",
    "    plt.xlabel('Credit Score', size = 16)\n",
    "    plt.ylabel('Density', size = 16)\n",
    "    plt.xlim(100, 1200)\n",
    "\n",
    "    plt.show()"
   ]
  },
  {
   "cell_type": "markdown",
   "id": "4c9aaf6e",
   "metadata": {},
   "source": [
    "##### <span style='color:orange'> Example 6:  </span>"
   ]
  },
  {
   "cell_type": "code",
   "execution_count": 34,
   "id": "4649b2c0",
   "metadata": {
    "scrolled": true
   },
   "outputs": [
    {
     "name": "stderr",
     "output_type": "stream",
     "text": [
      "C:\\Users\\mm\\Anaconda3\\lib\\site-packages\\seaborn\\distributions.py:2619: FutureWarning: `distplot` is a deprecated function and will be removed in a future version. Please adapt your code to use either `displot` (a figure-level function with similar flexibility) or `histplot` (an axes-level function for histograms).\n",
      "  warnings.warn(msg, FutureWarning)\n",
      "C:\\Users\\mm\\Anaconda3\\lib\\site-packages\\seaborn\\distributions.py:2619: FutureWarning: `distplot` is a deprecated function and will be removed in a future version. Please adapt your code to use either `displot` (a figure-level function with similar flexibility) or `kdeplot` (an axes-level function for kernel density plots).\n",
      "  warnings.warn(msg, FutureWarning)\n"
     ]
    },
    {
     "data": {
      "image/png": "[encoded data removed]",
      "text/plain": [
       "<Figure size 432x432 with 1 Axes>"
      ]
     },
     "metadata": {},
     "output_type": "display_data"
    }
   ],
   "source": [
    "displayer_Probability_Density_Function(df_female, df_male, 'Credit_Score')"
   ]
  },
  {
   "cell_type": "markdown",
   "id": "8ad9cd08",
   "metadata": {},
   "source": [
    "***"
   ]
  },
  {
   "cell_type": "markdown",
   "id": "7733817b",
   "metadata": {},
   "source": [
    "### <span style = 'color:purple'> Step 2. Inferential statistics and auditing gender bias  </span>"
   ]
  },
  {
   "attachments": {
    "image-2.png": {
     "image/png": "[encoded data removed]"
    },
    "image-3.png": {
     "image/png": "[encoded data removed]"
    }
   },
   "cell_type": "markdown",
   "id": "4688aa0c",
   "metadata": {},
   "source": [
    "#### 2.1. Auditing for Group-level fairness of model / credit scores using balance tests\n",
    "\n",
    "Positive and negative balance tests are among the most fundamental bias audit tests, and are used to \n",
    "estimate the significance of the difference between two numbers. A positive (or negative) balance test on model/credit scores, for example, aims to test whether the approved (or rejected) male and female credit applicants exhibit statistically significant differences in their scores. A positive balance test would apply to the applicants who are approved, while a negative balance test would apply to the applicants who are rejected. To run a positive balance test, the auditor compares the average model / credit score of approved men vs. approved women using a two sample t-test. The negative balance test uses the same construct among rejected applicants.\n",
    "\n",
    "To compare the differences between men and women's average model scores, we can use two sample T-Test. \n",
    "For approved and rejected applicants, we conduct separate tests. Python scipy package has a method called \n",
    "\n",
    "ttest_ind(a, b, equal_var = True) where:\n",
    "a: an array of sample observations for group 1\n",
    "b: an array of sample observations for group 2\n",
    "equal_var: if True, perform a standard independent 2 sample t-test that assumes equal population variances. \n",
    "If False, perform Welch’s t-test, which does not assume equal population variances. This is True by default.\n",
    "Before we perform the test, we need to decide if we’ll assume the two populations have equal variances or not. \n",
    "As a rule of thumb, we can assume the populations have equal variances if the ratio of the larger sample \n",
    "variance to the smaller sample variance is less than 4.  \n",
    "Here, our code takes care of this part and calculates the variance ratio and based on that, automatically decides\n",
    "which test is the right one to apply. \n",
    "\n",
    "The following tables show the way that we suggest to structure your test and tests results. \n",
    "![image-2.png](attachment:image-2.png)\n",
    "![image-3.png](attachment:image-3.png)\n"
   ]
  },
  {
   "cell_type": "markdown",
   "id": "09a49877",
   "metadata": {},
   "source": [
    "##### <span style='color:red'> Code 7:  </span>\n"
   ]
  },
  {
   "cell_type": "markdown",
   "id": "ebc79385",
   "metadata": {},
   "source": [
    "positive_balance_test is a function that helps an auditor assess the positive balance fairness notion test.\n",
    "\n",
    "To learn more about this fairness notion, please read 'CHECK YOUR BIAS: A FIELD GUIDE FOR LENDERS' report. \n",
    "\n",
    "This function takes six arguments. \n",
    "* argument 1: a dataframe object containing both female and male customers (whole portfolio)\n",
    "* argument 2: a dataframe object containing records of all the women in the portfolio\n",
    "* argument 3: a dataframe object containing records of all the men in the portfolio \n",
    "* argument 4: name of the variable that shows the outcome of a credit decision. This argument takes a binary value!\n",
    "* argument 5: label that argument 4 takes for the approved credit cases. \n",
    "* argument 6: name of the variable that shows the credit score/model score"
   ]
  },
  {
   "cell_type": "code",
   "execution_count": 37,
   "id": "e5f162c6",
   "metadata": {},
   "outputs": [],
   "source": [
    "def positive_balance_test(df_all, df_female, df_male, Decision_Result_Variable, Approved_Label, Crd_Score):\n",
    "    \n",
    "    df_all_approved = df_all.loc[df_all[str(Decision_Result_Variable)] == str(Approved_Label)]  # a dataframe for all approved applicants\n",
    "    df_female_approved = df_female.loc[df_female[str(Decision_Result_Variable)] == str(Approved_Label)]  # a dataframe for approved female\n",
    "    df_male_approved = df_male.loc[df_male[str(Decision_Result_Variable)] == str(Approved_Label)]        # a dataframe for approved male\n",
    "\n",
    "    f_cred_score = df_female_approved[str(Crd_Score)]\n",
    "    m_cred_score = df_male_approved[str(Crd_Score)]\n",
    "\n",
    "    variance_ratio = max(np.var(m_cred_score), np.var(f_cred_score)) / min(np.var(m_cred_score), np.var(f_cred_score))\n",
    "    equality = True\n",
    "    if variance_ratio > 4:\n",
    "        equality = False\n",
    "    p_value = ttest_ind(f_cred_score, m_cred_score, equal_var = equality).pvalue\n",
    "    test_statistics = ttest_ind(f_cred_score, m_cred_score, equal_var = equality).statistic\n",
    "\n",
    "    sum_stat_approved = pd.DataFrame(\n",
    "        {\n",
    "        'All(men and women)': [np.round(df_all_approved[str(Crd_Score)].mean(), 4), np.round(df_all_approved[str(Crd_Score)].std(), 4)], \n",
    "        'Only men': [np.round(df_male_approved[str(Crd_Score)].mean(), 4), np.round(df_male_approved[str(Crd_Score)].std(), 4)], \n",
    "        'Only women': [np.round(df_female_approved[str(Crd_Score)].mean(), 4), np.round(df_female_approved[str(Crd_Score)].std(),4)]\n",
    "        }\n",
    "           , index = ['Mean', 'sd'])\n",
    "\n",
    "    display(sum_stat_approved.style.set_caption(\"Credit/model score summary statistics (approved cases)\").set_table_styles([{'selector': 'caption',\n",
    "        'props': [('color', 'blue'), ('font-size', '13px')]}]))\n",
    "\n",
    "    test_result_table = pd.DataFrame({'test statistic': test_statistics, 'p_value': p_value}, index = ['Difference (men - women)'])\n",
    "\n",
    "    print('..........................................')\n",
    "    display(test_result_table.style.set_caption(\"Positive fairness balance test\").set_table_styles([{'selector': 'caption',\n",
    "        'props': [('color', 'blue'),('font-size', '13px')]}]))\n",
    "\n",
    "    print()\n",
    "\n",
    "    if p_value <= 0.05:\n",
    "        print(Fore.RED, '>>> Positive balance Fairness test on credit scores failed among applicants who have received a loan offer.', emoji.emojize(':thumbs_down:'))\n",
    "\n",
    "    else: \n",
    "        print(Fore.BLUE, '>>> Positive balance Fairness test on credit scores did \"Not\" fail among applicants who have received a loan offer.', emoji.emojize(':thumbs_up:'))"
   ]
  },
  {
   "cell_type": "markdown",
   "id": "9264545a",
   "metadata": {},
   "source": [
    "##### <span style='color:orange'> Example 7:  </span>"
   ]
  },
  {
   "cell_type": "code",
   "execution_count": 38,
   "id": "4f012e74",
   "metadata": {
    "scrolled": true
   },
   "outputs": [
    {
     "data": {
      "text/html": [
       "<style  type=\"text/css\" >\n",
       "    #T_e4b8b_ caption {\n",
       "          color: blue;\n",
       "          font-size: 13px;\n",
       "    }</style><table id=\"T_e4b8b_\" ><caption>Credit/model score summary statistics (approved cases)</caption><thead>    <tr>        <th class=\"blank level0\" ></th>        <th class=\"col_heading level0 col0\" >All(men and women)</th>        <th class=\"col_heading level0 col1\" >Only men</th>        <th class=\"col_heading level0 col2\" >Only women</th>    </tr></thead><tbody>\n",
       "                <tr>\n",
       "                        <th id=\"T_e4b8b_level0_row0\" class=\"row_heading level0 row0\" >Mean</th>\n",
       "                        <td id=\"T_e4b8b_row0_col0\" class=\"data row0 col0\" >531.264400</td>\n",
       "                        <td id=\"T_e4b8b_row0_col1\" class=\"data row0 col1\" >533.308400</td>\n",
       "                        <td id=\"T_e4b8b_row0_col2\" class=\"data row0 col2\" >528.000000</td>\n",
       "            </tr>\n",
       "            <tr>\n",
       "                        <th id=\"T_e4b8b_level0_row1\" class=\"row_heading level0 row1\" >sd</th>\n",
       "                        <td id=\"T_e4b8b_row1_col0\" class=\"data row1 col0\" >96.256300</td>\n",
       "                        <td id=\"T_e4b8b_row1_col1\" class=\"data row1 col1\" >97.138000</td>\n",
       "                        <td id=\"T_e4b8b_row1_col2\" class=\"data row1 col2\" >95.468500</td>\n",
       "            </tr>\n",
       "    </tbody></table>"
      ],
      "text/plain": [
       "<pandas.io.formats.style.Styler at 0x1f08bc40790>"
      ]
     },
     "metadata": {},
     "output_type": "display_data"
    },
    {
     "name": "stdout",
     "output_type": "stream",
     "text": [
      "..........................................\n"
     ]
    },
    {
     "data": {
      "text/html": [
       "<style  type=\"text/css\" >\n",
       "    #T_7d2b5_ caption {\n",
       "          color: blue;\n",
       "          font-size: 13px;\n",
       "    }</style><table id=\"T_7d2b5_\" ><caption>Positive fairness balance test</caption><thead>    <tr>        <th class=\"blank level0\" ></th>        <th class=\"col_heading level0 col0\" >test statistic</th>        <th class=\"col_heading level0 col1\" >p_value</th>    </tr></thead><tbody>\n",
       "                <tr>\n",
       "                        <th id=\"T_7d2b5_level0_row0\" class=\"row_heading level0 row0\" >Difference (men - women)</th>\n",
       "                        <td id=\"T_7d2b5_row0_col0\" class=\"data row0 col0\" >-0.353092</td>\n",
       "                        <td id=\"T_7d2b5_row0_col1\" class=\"data row0 col1\" >0.724452</td>\n",
       "            </tr>\n",
       "    </tbody></table>"
      ],
      "text/plain": [
       "<pandas.io.formats.style.Styler at 0x1f08bc40a00>"
      ]
     },
     "metadata": {},
     "output_type": "display_data"
    },
    {
     "name": "stdout",
     "output_type": "stream",
     "text": [
      "\n",
      "\u001b[34m >>> Positive balance Fairness test on credit scores did \"Not\" fail among applicants who have received a loan offer. 👍\n"
     ]
    }
   ],
   "source": [
    "positive_balance_test(df_all, df_female, df_male, 'Credit_Decision', 'Yes', 'Credit_Score')  "
   ]
  },
  {
   "cell_type": "markdown",
   "id": "28f0d7d7",
   "metadata": {},
   "source": [
    "***"
   ]
  },
  {
   "cell_type": "markdown",
   "id": "fd89898a",
   "metadata": {},
   "source": [
    "##### <span style='color:red'> Code 8:  </span>\n"
   ]
  },
  {
   "cell_type": "markdown",
   "id": "75f07353",
   "metadata": {},
   "source": [
    "negative_balance_test is a function that helps an auditor assess the negative balance fairness notion test. \n",
    "\n",
    "To learn more about this fairness notion, please read 'CHECK YOUR BIAS: A FIELD GUIDE FOR LENDERS' report. \n",
    "This function takes six arguments. \n",
    "\n",
    "This function takes six arguments. \n",
    "* argument 1: a dataframe object containing both female and male customers (whole portfolio)\n",
    "* argument 2: a dataframe object containing records of all the women in the portfolio\n",
    "* argument 3: a dataframe object containing records of all the men in the portfolio \n",
    "* argument 4: name of the variable that shows the outcome of a credit decision. This argument takes a binary value!\n",
    "* argument 5: label that argument 4 takes for the rejected credit cases. \n",
    "* argument 6: name of the variable that shows the credit score/model score"
   ]
  },
  {
   "cell_type": "code",
   "execution_count": 42,
   "id": "c0add20d",
   "metadata": {},
   "outputs": [],
   "source": [
    "def negative_balance_test(df_all, df_female, df_male, Decision_Result_Variable, Rejected_Label, Crd_Score):\n",
    "    \n",
    "    df_all_rejected = df_all.loc[df_all[str(Decision_Result_Variable)] == str(Rejected_Label)]\n",
    "    df_female_rejected = df_female.loc[df_female[str(Decision_Result_Variable)] == str(Rejected_Label)]  # a dataframe for rejected female\n",
    "    df_male_rejected = df_male.loc[df_male[str(Decision_Result_Variable)] == str(Rejected_Label)]        # a dataframe for rejected male\n",
    "\n",
    "    f_cred_score = df_female_rejected[str(Crd_Score)]\n",
    "    m_cred_score = df_male_rejected[str(Crd_Score)]\n",
    "\n",
    "    variance_ratio = max(np.var(m_cred_score), np.var(f_cred_score)) / min(np.var(m_cred_score), np.var(f_cred_score))\n",
    "    equality = True\n",
    "    if variance_ratio > 4:\n",
    "        equality = False\n",
    "    p_value = ttest_ind(f_cred_score, m_cred_score, equal_var = equality).pvalue\n",
    "    test_statistics = ttest_ind(f_cred_score, m_cred_score, equal_var = equality).statistic\n",
    "\n",
    "    sum_stat_approved = pd.DataFrame(\n",
    "        {\n",
    "            'All(men and women)': [np.round(df_all_rejected[str(Crd_Score)].mean(), 4), np.round(df_all_rejected[str(Crd_Score)].std(), 4)], \n",
    "            'Only men': [np.round(df_male_rejected[str(Crd_Score)].mean(), 4), np.round(df_male_rejected[str(Crd_Score)].std(), 4)], \n",
    "            'Only women': [np.round(df_female_rejected[str(Crd_Score)].mean(), 4), np.round(df_female_rejected[str(Crd_Score)].std(),4)]\n",
    "        }\n",
    "           , index = ['Mean', 'sd'])\n",
    "\n",
    "\n",
    "    display(sum_stat_approved.style.set_caption(\"Credit/model score summary statistics (rejected cases)\").set_table_styles([{'selector': 'caption',\n",
    "        'props': [('color', 'blue'), ('font-size', '13px')]}]))\n",
    "\n",
    "    test_result_table = pd.DataFrame({'test statistic': test_statistics, 'p_value': p_value}, index = ['Difference (men - women)'])\n",
    "\n",
    "    print('..........................................')\n",
    "    display(test_result_table.style.set_caption(\"Negative fairness balance test\").set_table_styles([{'selector': 'caption',\n",
    "        'props': [('color', 'blue'),('font-size', '13px')]}]))\n",
    "\n",
    "    print()\n",
    "\n",
    "    if p_value <= 0.05:\n",
    "        print(Fore.RED, '>>> Negative balance Fairness test on credit scores failed among applicants who have not received a loan offer.', emoji.emojize(':thumbs_down:'))\n",
    "\n",
    "    else: \n",
    "        print(Fore.BLUE, '>>> Negative balance Fairness test on credit scores did \"Not\" fail among applicants who have not received a loan offer.', emoji.emojize(':thumbs_up:'))"
   ]
  },
  {
   "cell_type": "markdown",
   "id": "d364a72b",
   "metadata": {},
   "source": [
    "##### <span style='color:orange'> Example 8:  </span>"
   ]
  },
  {
   "cell_type": "code",
   "execution_count": 43,
   "id": "b9befaac",
   "metadata": {},
   "outputs": [
    {
     "data": {
      "text/html": [
       "<style  type=\"text/css\" >\n",
       "    #T_d5d41_ caption {\n",
       "          color: blue;\n",
       "          font-size: 13px;\n",
       "    }</style><table id=\"T_d5d41_\" ><caption>Credit/model score summary statistics (rejected cases)</caption><thead>    <tr>        <th class=\"blank level0\" ></th>        <th class=\"col_heading level0 col0\" >All(men and women)</th>        <th class=\"col_heading level0 col1\" >Only men</th>        <th class=\"col_heading level0 col2\" >Only women</th>    </tr></thead><tbody>\n",
       "                <tr>\n",
       "                        <th id=\"T_d5d41_level0_row0\" class=\"row_heading level0 row0\" >Mean</th>\n",
       "                        <td id=\"T_d5d41_row0_col0\" class=\"data row0 col0\" >392.615000</td>\n",
       "                        <td id=\"T_d5d41_row0_col1\" class=\"data row0 col1\" >391.509800</td>\n",
       "                        <td id=\"T_d5d41_row0_col2\" class=\"data row0 col2\" >394.931500</td>\n",
       "            </tr>\n",
       "            <tr>\n",
       "                        <th id=\"T_d5d41_level0_row1\" class=\"row_heading level0 row1\" >sd</th>\n",
       "                        <td id=\"T_d5d41_row1_col0\" class=\"data row1 col0\" >107.461400</td>\n",
       "                        <td id=\"T_d5d41_row1_col1\" class=\"data row1 col1\" >105.430600</td>\n",
       "                        <td id=\"T_d5d41_row1_col2\" class=\"data row1 col2\" >112.307800</td>\n",
       "            </tr>\n",
       "    </tbody></table>"
      ],
      "text/plain": [
       "<pandas.io.formats.style.Styler at 0x1f08bc40280>"
      ]
     },
     "metadata": {},
     "output_type": "display_data"
    },
    {
     "name": "stdout",
     "output_type": "stream",
     "text": [
      "..........................................\n"
     ]
    },
    {
     "data": {
      "text/html": [
       "<style  type=\"text/css\" >\n",
       "    #T_aeb6c_ caption {\n",
       "          color: blue;\n",
       "          font-size: 13px;\n",
       "    }</style><table id=\"T_aeb6c_\" ><caption>Negative fairness balance test</caption><thead>    <tr>        <th class=\"blank level0\" ></th>        <th class=\"col_heading level0 col0\" >test statistic</th>        <th class=\"col_heading level0 col1\" >p_value</th>    </tr></thead><tbody>\n",
       "                <tr>\n",
       "                        <th id=\"T_aeb6c_level0_row0\" class=\"row_heading level0 row0\" >Difference (men - women)</th>\n",
       "                        <td id=\"T_aeb6c_row0_col0\" class=\"data row0 col0\" >0.223369</td>\n",
       "                        <td id=\"T_aeb6c_row0_col1\" class=\"data row0 col1\" >0.823452</td>\n",
       "            </tr>\n",
       "    </tbody></table>"
      ],
      "text/plain": [
       "<pandas.io.formats.style.Styler at 0x1f08bd49af0>"
      ]
     },
     "metadata": {},
     "output_type": "display_data"
    },
    {
     "name": "stdout",
     "output_type": "stream",
     "text": [
      "\n",
      "\u001b[34m >>> Negative balance Fairness test on credit scores did \"Not\" fail among applicants who have not received a loan offer. 👍\n"
     ]
    }
   ],
   "source": [
    "negative_balance_test(df_all, df_female, df_male, 'Credit_Decision', 'No', 'Credit_Score')"
   ]
  },
  {
   "cell_type": "markdown",
   "id": "68eb8f02",
   "metadata": {},
   "source": [
    "************************************"
   ]
  },
  {
   "cell_type": "markdown",
   "id": "cb143c16",
   "metadata": {},
   "source": [
    "#### 2.2. Auditing for Group- or Individual-level fairness using logistic regression\n",
    "##### How to audit gender fairness of credit approval and non-performing loans (NPLs)\n",
    "\n",
    "To understand if there is a strong relationship between the “gender” variable and some categorical credit terms, such as credit approval or non-performing loans (NPLs), an auditor can use classification techniques such as logistic regression. \n",
    "\n",
    "Logistic regression (also known as a logit model) is often used for classification and predictive analytics. Logistic regression estimates the probability of an event occurring based on a given dataset of independent variables. Since the outcome is a probability, the dependent variable is bounded between 0 and 1. In logistic regression, a logit transformation is applied on the odds—that is, the probability of success divided by the probability of failure. This is also commonly known as the log of odds ratio, or the natural logarithm of odds. \n",
    "\n",
    "Like other regression models, logistic regression allows for adding further control variables to take into account other relevant characteristics of the applicants (e.g., demographics, risk factors, requested loan characteristics, etc.), apart from gender, that may explain differential outcomes. The assessment is unconditional if it does not account for control variables (i.e., a test of group-level fairness), and conditional if it accounts for control variables (i.e., a test of individual-level fairness). \n",
    "\n",
    "Example: Auditing for gender bias in credit approval. In other words, we are trying to understand if there are any biases in the FSP's credit approval that gender can explain it.\n",
    "To answer this question using logistic regression, we can rephrase the question and ask 'does gender predict the likelihood of credit approval' (to be more precise, the log of odds ratio of approval)? \n",
    "\n",
    "Logistic regression model structure:\n",
    "\n",
    "DV: Credit/loan approval (DV = 1, if approved and DV = 0 if rejected)\n",
    "EVs: \n",
    "    a. In an unconditional model: Gender  \n",
    "    b. In a conditional model: Gender, new applicant or renewal, (income - expenses), demographics, has any credit bureau data (0/1), verification checks etc.\n",
    "\n",
    "Comment:  Check concept note # II, to learn more about the EVs we have used and our suggested approach to set your models up.\n"
   ]
  },
  {
   "cell_type": "markdown",
   "id": "2d79275d",
   "metadata": {},
   "source": [
    "##### <span style='color:red'> Code 9:  </span>"
   ]
  },
  {
   "cell_type": "markdown",
   "id": "de2e0304",
   "metadata": {},
   "source": [
    "add_stepwise_logistic is a function that takes two arguments: \n",
    "\n",
    "* argument 1 (X): a dataframe containing all the predictors that the auditor wants to include in the model.\n",
    "\n",
    "* argument 2 (y): a series containing the outcome variable of the model."
   ]
  },
  {
   "cell_type": "code",
   "execution_count": 44,
   "id": "06d2ab41",
   "metadata": {},
   "outputs": [],
   "source": [
    "def add_stepwise_logistic(X, y):\n",
    "   \n",
    "    p_all = list(X.columns)\n",
    "    p_used = []\n",
    "    p_unused = [p for p in p_all if p not in p_used]\n",
    "        \n",
    "    \n",
    "    r = []\n",
    "    for p in p_unused:\n",
    "        f = 'Credit_Score ~ {}'.format(' + '.join([p] + p_used))\n",
    "              \n",
    "        p_used.append(p)\n",
    "        \n",
    "        model = smf.glm(formula = f, data = pd.concat([X, y], axis = 1), family = sm.families.Binomial()).fit()\n",
    "        results_as_html_1 = model.summary().tables[1]\n",
    "        display(results_as_html_1)\n",
    "        print('')\n",
    "        print(colored('*******************************************************', 'blue'))"
   ]
  },
  {
   "cell_type": "markdown",
   "id": "dfc7b3ec",
   "metadata": {},
   "source": [
    "##### <span style='color:orange'> Example 9:  </span>"
   ]
  },
  {
   "cell_type": "code",
   "execution_count": 45,
   "id": "544faddb",
   "metadata": {},
   "outputs": [
    {
     "data": {
      "text/html": [
       "<table class=\"simpletable\">\n",
       "<tr>\n",
       "       <td></td>          <th>coef</th>     <th>std err</th>      <th>z</th>      <th>P>|z|</th>  <th>[0.025</th>    <th>0.975]</th>  \n",
       "</tr>\n",
       "<tr>\n",
       "  <th>Intercept</th>   <td> 3.092e+18</td> <td> 5.67e+06</td> <td> 5.45e+11</td> <td> 0.000</td> <td> 3.09e+18</td> <td> 3.09e+18</td>\n",
       "</tr>\n",
       "<tr>\n",
       "  <th>Gender_Male</th> <td> -5.91e+16</td> <td> 7.03e+06</td> <td> -8.4e+09</td> <td> 0.000</td> <td>-5.91e+16</td> <td>-5.91e+16</td>\n",
       "</tr>\n",
       "</table>"
      ],
      "text/plain": [
       "<class 'statsmodels.iolib.table.SimpleTable'>"
      ]
     },
     "metadata": {},
     "output_type": "display_data"
    },
    {
     "name": "stdout",
     "output_type": "stream",
     "text": [
      "\n",
      "\u001b[34m*******************************************************\u001b[0m\n"
     ]
    },
    {
     "data": {
      "text/html": [
       "<table class=\"simpletable\">\n",
       "<tr>\n",
       "       <td></td>          <th>coef</th>     <th>std err</th>      <th>z</th>      <th>P>|z|</th>  <th>[0.025</th>    <th>0.975]</th>  \n",
       "</tr>\n",
       "<tr>\n",
       "  <th>Intercept</th>   <td> 3.228e+18</td> <td> 1.12e+07</td> <td> 2.88e+11</td> <td> 0.000</td> <td> 3.23e+18</td> <td> 3.23e+18</td>\n",
       "</tr>\n",
       "<tr>\n",
       "  <th>Age</th>         <td>-3.402e+15</td> <td> 2.43e+05</td> <td> -1.4e+10</td> <td> 0.000</td> <td> -3.4e+15</td> <td> -3.4e+15</td>\n",
       "</tr>\n",
       "<tr>\n",
       "  <th>Gender_Male</th> <td>-5.238e+16</td> <td> 7.05e+06</td> <td>-7.43e+09</td> <td> 0.000</td> <td>-5.24e+16</td> <td>-5.24e+16</td>\n",
       "</tr>\n",
       "</table>"
      ],
      "text/plain": [
       "<class 'statsmodels.iolib.table.SimpleTable'>"
      ]
     },
     "metadata": {},
     "output_type": "display_data"
    },
    {
     "name": "stdout",
     "output_type": "stream",
     "text": [
      "\n",
      "\u001b[34m*******************************************************\u001b[0m\n"
     ]
    },
    {
     "data": {
      "text/html": [
       "<table class=\"simpletable\">\n",
       "<tr>\n",
       "        <td></td>          <th>coef</th>     <th>std err</th>      <th>z</th>      <th>P>|z|</th>  <th>[0.025</th>    <th>0.975]</th>  \n",
       "</tr>\n",
       "<tr>\n",
       "  <th>Intercept</th>    <td> 3.319e+18</td> <td> 1.33e+07</td> <td> 2.49e+11</td> <td> 0.000</td> <td> 3.32e+18</td> <td> 3.32e+18</td>\n",
       "</tr>\n",
       "<tr>\n",
       "  <th>Total_Income</th> <td> -1.29e+13</td> <td> 1015.976</td> <td>-1.27e+10</td> <td> 0.000</td> <td>-1.29e+13</td> <td>-1.29e+13</td>\n",
       "</tr>\n",
       "<tr>\n",
       "  <th>Gender_Male</th>  <td>-5.336e+16</td> <td> 7.05e+06</td> <td>-7.57e+09</td> <td> 0.000</td> <td>-5.34e+16</td> <td>-5.34e+16</td>\n",
       "</tr>\n",
       "<tr>\n",
       "  <th>Age</th>          <td>-3.724e+15</td> <td> 2.44e+05</td> <td>-1.52e+10</td> <td> 0.000</td> <td>-3.72e+15</td> <td>-3.72e+15</td>\n",
       "</tr>\n",
       "</table>"
      ],
      "text/plain": [
       "<class 'statsmodels.iolib.table.SimpleTable'>"
      ]
     },
     "metadata": {},
     "output_type": "display_data"
    },
    {
     "name": "stdout",
     "output_type": "stream",
     "text": [
      "\n",
      "\u001b[34m*******************************************************\u001b[0m\n"
     ]
    },
    {
     "data": {
      "text/html": [
       "<table class=\"simpletable\">\n",
       "<tr>\n",
       "             <td></td>                <th>coef</th>     <th>std err</th>      <th>z</th>      <th>P>|z|</th>  <th>[0.025</th>    <th>0.975]</th>  \n",
       "</tr>\n",
       "<tr>\n",
       "  <th>Intercept</th>               <td> 2.143e+18</td> <td> 2.44e+07</td> <td> 8.79e+10</td> <td> 0.000</td> <td> 2.14e+18</td> <td> 2.14e+18</td>\n",
       "</tr>\n",
       "<tr>\n",
       "  <th>Disbursed_Credit_Amount</th> <td> 2.625e+14</td> <td> 2338.974</td> <td> 1.12e+11</td> <td> 0.000</td> <td> 2.62e+14</td> <td> 2.62e+14</td>\n",
       "</tr>\n",
       "<tr>\n",
       "  <th>Gender_Male</th>             <td> 6.241e+15</td> <td> 1.05e+07</td> <td> 5.95e+08</td> <td> 0.000</td> <td> 6.24e+15</td> <td> 6.24e+15</td>\n",
       "</tr>\n",
       "<tr>\n",
       "  <th>Age</th>                     <td> 2.081e+15</td> <td> 3.64e+05</td> <td> 5.72e+09</td> <td> 0.000</td> <td> 2.08e+15</td> <td> 2.08e+15</td>\n",
       "</tr>\n",
       "<tr>\n",
       "  <th>Total_Income</th>            <td> 6.234e+12</td> <td> 1479.536</td> <td> 4.21e+09</td> <td> 0.000</td> <td> 6.23e+12</td> <td> 6.23e+12</td>\n",
       "</tr>\n",
       "</table>"
      ],
      "text/plain": [
       "<class 'statsmodels.iolib.table.SimpleTable'>"
      ]
     },
     "metadata": {},
     "output_type": "display_data"
    },
    {
     "name": "stdout",
     "output_type": "stream",
     "text": [
      "\n",
      "\u001b[34m*******************************************************\u001b[0m\n"
     ]
    },
    {
     "data": {
      "text/html": [
       "<table class=\"simpletable\">\n",
       "<tr>\n",
       "             <td></td>                <th>coef</th>     <th>std err</th>      <th>z</th>      <th>P>|z|</th>  <th>[0.025</th>    <th>0.975]</th>  \n",
       "</tr>\n",
       "<tr>\n",
       "  <th>Intercept</th>               <td> 2.152e+18</td> <td> 2.45e+07</td> <td> 8.77e+10</td> <td> 0.000</td> <td> 2.15e+18</td> <td> 2.15e+18</td>\n",
       "</tr>\n",
       "<tr>\n",
       "  <th>Verification_Any_Yes</th>    <td>-4.559e+16</td> <td> 1.46e+07</td> <td>-3.13e+09</td> <td> 0.000</td> <td>-4.56e+16</td> <td>-4.56e+16</td>\n",
       "</tr>\n",
       "<tr>\n",
       "  <th>Gender_Male</th>             <td> 8.213e+15</td> <td> 1.05e+07</td> <td> 7.81e+08</td> <td> 0.000</td> <td> 8.21e+15</td> <td> 8.21e+15</td>\n",
       "</tr>\n",
       "<tr>\n",
       "  <th>Age</th>                     <td> 1.997e+15</td> <td> 3.65e+05</td> <td> 5.47e+09</td> <td> 0.000</td> <td>    2e+15</td> <td>    2e+15</td>\n",
       "</tr>\n",
       "<tr>\n",
       "  <th>Total_Income</th>            <td> 6.225e+12</td> <td> 1479.539</td> <td> 4.21e+09</td> <td> 0.000</td> <td> 6.23e+12</td> <td> 6.23e+12</td>\n",
       "</tr>\n",
       "<tr>\n",
       "  <th>Disbursed_Credit_Amount</th> <td> 2.624e+14</td> <td> 2338.988</td> <td> 1.12e+11</td> <td> 0.000</td> <td> 2.62e+14</td> <td> 2.62e+14</td>\n",
       "</tr>\n",
       "</table>"
      ],
      "text/plain": [
       "<class 'statsmodels.iolib.table.SimpleTable'>"
      ]
     },
     "metadata": {},
     "output_type": "display_data"
    },
    {
     "name": "stdout",
     "output_type": "stream",
     "text": [
      "\n",
      "\u001b[34m*******************************************************\u001b[0m\n"
     ]
    },
    {
     "data": {
      "text/html": [
       "<table class=\"simpletable\">\n",
       "<tr>\n",
       "             <td></td>                <th>coef</th>     <th>std err</th>      <th>z</th>      <th>P>|z|</th>  <th>[0.025</th>    <th>0.975]</th>  \n",
       "</tr>\n",
       "<tr>\n",
       "  <th>Intercept</th>               <td> 2.136e+18</td> <td> 2.47e+07</td> <td> 8.66e+10</td> <td> 0.000</td> <td> 2.14e+18</td> <td> 2.14e+18</td>\n",
       "</tr>\n",
       "<tr>\n",
       "  <th>Marital_Status_Others</th>   <td> 9.768e+16</td> <td> 1.62e+07</td> <td> 6.04e+09</td> <td> 0.000</td> <td> 9.77e+16</td> <td> 9.77e+16</td>\n",
       "</tr>\n",
       "<tr>\n",
       "  <th>Gender_Male</th>             <td>-7.389e+14</td> <td> 1.06e+07</td> <td>-6.96e+07</td> <td> 0.000</td> <td>-7.39e+14</td> <td>-7.39e+14</td>\n",
       "</tr>\n",
       "<tr>\n",
       "  <th>Age</th>                     <td>  2.14e+15</td> <td> 3.66e+05</td> <td> 5.85e+09</td> <td> 0.000</td> <td> 2.14e+15</td> <td> 2.14e+15</td>\n",
       "</tr>\n",
       "<tr>\n",
       "  <th>Total_Income</th>            <td> 6.337e+12</td> <td> 1479.655</td> <td> 4.28e+09</td> <td> 0.000</td> <td> 6.34e+12</td> <td> 6.34e+12</td>\n",
       "</tr>\n",
       "<tr>\n",
       "  <th>Disbursed_Credit_Amount</th> <td> 2.633e+14</td> <td> 2343.068</td> <td> 1.12e+11</td> <td> 0.000</td> <td> 2.63e+14</td> <td> 2.63e+14</td>\n",
       "</tr>\n",
       "<tr>\n",
       "  <th>Verification_Any_Yes</th>    <td>-4.965e+16</td> <td> 1.46e+07</td> <td> -3.4e+09</td> <td> 0.000</td> <td>-4.96e+16</td> <td>-4.96e+16</td>\n",
       "</tr>\n",
       "</table>"
      ],
      "text/plain": [
       "<class 'statsmodels.iolib.table.SimpleTable'>"
      ]
     },
     "metadata": {},
     "output_type": "display_data"
    },
    {
     "name": "stdout",
     "output_type": "stream",
     "text": [
      "\n",
      "\u001b[34m*******************************************************\u001b[0m\n"
     ]
    },
    {
     "data": {
      "text/html": [
       "<table class=\"simpletable\">\n",
       "<tr>\n",
       "             <td></td>                <th>coef</th>     <th>std err</th>      <th>z</th>      <th>P>|z|</th>  <th>[0.025</th>    <th>0.975]</th>  \n",
       "</tr>\n",
       "<tr>\n",
       "  <th>Intercept</th>               <td> 2.119e+18</td> <td>  2.5e+07</td> <td> 8.47e+10</td> <td> 0.000</td> <td> 2.12e+18</td> <td> 2.12e+18</td>\n",
       "</tr>\n",
       "<tr>\n",
       "  <th>Marital_Status_Single</th>   <td>  5.13e+16</td> <td> 1.19e+07</td> <td> 4.31e+09</td> <td> 0.000</td> <td> 5.13e+16</td> <td> 5.13e+16</td>\n",
       "</tr>\n",
       "<tr>\n",
       "  <th>Gender_Male</th>             <td>   4.6e+15</td> <td> 1.07e+07</td> <td>  4.3e+08</td> <td> 0.000</td> <td>  4.6e+15</td> <td>  4.6e+15</td>\n",
       "</tr>\n",
       "<tr>\n",
       "  <th>Age</th>                     <td> 2.175e+15</td> <td> 3.66e+05</td> <td> 5.95e+09</td> <td> 0.000</td> <td> 2.17e+15</td> <td> 2.17e+15</td>\n",
       "</tr>\n",
       "<tr>\n",
       "  <th>Total_Income</th>            <td> 6.307e+12</td> <td> 1479.672</td> <td> 4.26e+09</td> <td> 0.000</td> <td> 6.31e+12</td> <td> 6.31e+12</td>\n",
       "</tr>\n",
       "<tr>\n",
       "  <th>Disbursed_Credit_Amount</th> <td> 2.629e+14</td> <td> 2344.938</td> <td> 1.12e+11</td> <td> 0.000</td> <td> 2.63e+14</td> <td> 2.63e+14</td>\n",
       "</tr>\n",
       "<tr>\n",
       "  <th>Verification_Any_Yes</th>    <td>-5.164e+16</td> <td> 1.46e+07</td> <td>-3.54e+09</td> <td> 0.000</td> <td>-5.16e+16</td> <td>-5.16e+16</td>\n",
       "</tr>\n",
       "<tr>\n",
       "  <th>Marital_Status_Others</th>   <td>  1.12e+17</td> <td> 1.65e+07</td> <td> 6.78e+09</td> <td> 0.000</td> <td> 1.12e+17</td> <td> 1.12e+17</td>\n",
       "</tr>\n",
       "</table>"
      ],
      "text/plain": [
       "<class 'statsmodels.iolib.table.SimpleTable'>"
      ]
     },
     "metadata": {},
     "output_type": "display_data"
    },
    {
     "name": "stdout",
     "output_type": "stream",
     "text": [
      "\n",
      "\u001b[34m*******************************************************\u001b[0m\n"
     ]
    }
   ],
   "source": [
    "# In this example, we select a subset of variables and use them in our model. \n",
    "\n",
    "modeling_data = df_all[['Credit_Score', 'Gender', 'Age', 'Total_Income', 'Disbursed_Credit_Amount', \n",
    "                        'Verification_Any', 'Marital_Status']]\n",
    "\n",
    "qual = ['Verification_Any', 'Marital_Status', 'Gender']\n",
    "modeling_data = pd.get_dummies(modeling_data, columns = qual, drop_first = True)\n",
    "\n",
    "X = modeling_data.drop(['Credit_Score'], axis = 1)\n",
    "first_column = X.pop('Gender_Male')\n",
    "X.insert(0, 'Gender_Male', first_column)\n",
    "\n",
    "y = modeling_data['Credit_Score']\n",
    "\n",
    "add_stepwise_logistic(X, y)"
   ]
  },
  {
   "cell_type": "markdown",
   "id": "e84e50cd",
   "metadata": {},
   "source": [
    "***"
   ]
  },
  {
   "attachments": {
    "image-5.png": {
     "image/png": "[encoded data removed]"
    }
   },
   "cell_type": "markdown",
   "id": "d31e40da",
   "metadata": {},
   "source": [
    "#### 2.3. Auditing for Group- or Individual-level fairness using linear regression.\n",
    "##### How to audit gender fairness of credit scores, credit amount, interest rate, collateral amount, and other credit terms. \n",
    "\n",
    "Introduction:\n",
    "Linear regression techniques look for patterns, or “linear” relationships, between explanatory variables (EV) and dependent variables (DV). There are many kinds of linear regression techniques. One type of regression is called least squares. To understand if there is a strong relationship between the “female” variable and a specific credit term (e.g., credit amount, interest rate, collateral amount etc.), relative to male applicants, an auditor can use least squares regression and regress the desired credit outcome on gender. To make the connection between using regression and detecting bias, let us have a quick recall on our definition of gender bias in a credit process. 'Gender-based credit bias happens when a credit process creates results that are systemically prejudiced against certain people, for reasons related to  gender'. In other words, in a fair scenario, gender must not contribute to any predictions on any loan terms. Now, it should be clearer how we are going to use regression for auditing bias. If you can regress a credit term on gender and observe statistically and economically significant relationships, this is indicative of an unconditional gender bias in the portfolio (i.e., a test of \"group-level fairness\"). Furthermore, we then recommend setting up increasingly conditional analyses that take into account other relevant characteristics of the applicants (e.g., demographics, risk factors, requested loan characteristics, etc.), apart from gender, that may explain differential outcomes. For purposes of bias auditing, this moves closer towards measuring whether a lender is achieving “individual-level fairness”.\n",
    "\n",
    "Example: \n",
    "Auditing for gender bias in loan amount. In other words, we are trying to understand if there are any biases in the FSP's credit approval amount that gender can explain.\n",
    "To answer this question using regression, let us rephrase the question and ask 'does gender predict the approved loan amount?'\n",
    "Using regression to answer 'does gender predict the approved loan amount?'\n",
    "\n",
    "Therefore, one could raise the following questions about other loan terms and use regression to audit gender bias in each term. \n",
    "* Does gender predict the difference between requested and offered loan amount?\n",
    "* Does gender predict loan amount disbursed?\n",
    "* Does gender predict interest rate?\n",
    "* Does gender predict length of loan maturity?\n",
    "* Does gender predict guarantee/collateral amount?\n",
    "* Does gender predict credit insurance amount?\n",
    "\n",
    "Regression model structure:\n",
    "\n",
    "DV: Credit/loan amount\n",
    "\n",
    "EVs:\n",
    "a. In an unconditional model:\n",
    "   Gender - A binary variable that takes 1, if gender is female and 0 otherwise.\n",
    "b. In a conditional model:\n",
    "   Gender, new applicant or renewal, (income - expenses), demographics, has any credit bureau data (0/1), verification checks and etc.\n",
    "\n",
    "A comment on using EVs:\n",
    "Although the list of EVs may vary between different FSP, there are a couple of EVs that we recommend to add to your model.  Specifically, if you are working in a developing economy. \n",
    "\n",
    "New applicant or renewal: Some FSPs may assess new applicants and old applicant's creditworthiness using different processes and techniques. Most likely that would be the case, since an FSP would have more data on its old customers compared to the new applicants. Therefore, when auditing bias, it is important not to consider the portfolio as a single homogenous group. To address this point, you can split the portfolio into different segments and assess fairness in each segment separately or you can add a categorical variable to represent each segment of your model. The latter is the approach we have taken in our modeling approach.\n",
    " \n",
    "Demographics: Age, economic characteristics, and household size are examples of such variables. \n",
    "\n",
    "Has any credit bureau data: due to a variety of reasons, it is common to see a low-income customer with no record and historical data in credit bureaus. Lack of required information or information asymmetry can create biases and algorithms or loan officers may treat such customers differently. Therefore, in your bias audit practice, it is helpful to create and use a binary control variable that shows whether someone has credit bureau information.\n",
    "\n",
    "Verification checks: Many FSPs ask for their loan officers' input when assessing an applicant's creditworthiness. However, to keep the costs down and be more efficient, they may put an extra verification mandate (home visit, business visit, interview ...) on customers that the FSP is uncertain about their repayment capacity. We recommend adding a binary control variable into your model to flag those customers who have received visits. Working with an FSP partner, we saw that women applicants are more likely to receive more home visits and the chance that a women applicant gets rejected after a home visit was higher compared to a man applicant with the same financial credentials! Therefore, we recommend adding such a control variable to your model to let you detect such scenarios.  \n",
    "\n",
    "If necessary, you can check the interaction effect between gender and control variables.  \n",
    "\n",
    "The following table shows the way that we have set our regression model to answer to 'Does gender predict the loan amount requested?' question.  \n",
    "Note: The unit of observation is at the individual application level.\n",
    "\n",
    "Guide on how to read the table:\n",
    "\n",
    "b: estimated regression coefficient\n",
    "se: standard error of b\n",
    "(number): numbers in parentheses show the output of a model. '(1)' shows the model containing only one variable, gender - unconditional model. Models '(2)' - model '(8)', show the conditional models. In model '(2)', we have added the application month as the only control variable, in model (3), we have added both application month and New applicant or renewal variables. Taking the same logic, model '(8)', contains all the seven control variables.\n",
    "\n",
    "\n",
    "\n",
    "![image-5.png](attachment:image-5.png)"
   ]
  },
  {
   "cell_type": "markdown",
   "id": "91fd1582",
   "metadata": {},
   "source": [
    "##### <span style='color:red'> Code 10:  </span>"
   ]
  },
  {
   "cell_type": "markdown",
   "id": "435b4895",
   "metadata": {
    "scrolled": true
   },
   "source": [
    "In this section, we introduce a function named add_stepwise(X, y), which takes two arguments.\n",
    "\n",
    "* argument 1 (X): a dataframe containing all the predictors that auditor wants to include in the model.\n",
    "\n",
    "* argument 2 (y): a series containing the outcome variable of model.\n",
    "\n",
    "\n",
    "To better interprete the model outputs, we recommend keeping the gender variable as your first variable in X. In example 10,\n",
    "we have shown how an auditor can do this. "
   ]
  },
  {
   "cell_type": "code",
   "execution_count": 46,
   "id": "c93dd8e2",
   "metadata": {},
   "outputs": [],
   "source": [
    "def add_stepwise(X, y):\n",
    "   \n",
    "    p_all = list(X.columns)\n",
    "    p_used = []\n",
    "    p_unused = [p for p in p_all if p not in p_used]\n",
    "           \n",
    "    r = []\n",
    "    for p in p_unused:\n",
    "        f = 'Credit_Score ~ {}'.format(' + '.join([p] + p_used))\n",
    "        \n",
    "        p_used.append(p)\n",
    "        \n",
    "        model = smf.ols(formula = f, data = pd.concat([X, y], axis = 1)).fit()\n",
    "        results_as_html_1 = model.summary().tables[1]\n",
    "        display(results_as_html_1)\n",
    "        print('')\n",
    "        print(colored('*******************************************************', 'blue'))      "
   ]
  },
  {
   "cell_type": "markdown",
   "id": "471bf214",
   "metadata": {},
   "source": [
    "##### <span style='color:orange'> Example 10:  </span>"
   ]
  },
  {
   "cell_type": "code",
   "execution_count": 103,
   "id": "5eba3ac7",
   "metadata": {},
   "outputs": [
    {
     "data": {
      "text/html": [
       "<table class=\"simpletable\">\n",
       "<tr>\n",
       "       <td></td>          <th>coef</th>     <th>std err</th>      <th>t</th>      <th>P>|t|</th>  <th>[0.025</th>    <th>0.975]</th>  \n",
       "</tr>\n",
       "<tr>\n",
       "  <th>Intercept</th>   <td>  458.6143</td> <td>   10.449</td> <td>   43.889</td> <td> 0.000</td> <td>  438.071</td> <td>  479.157</td>\n",
       "</tr>\n",
       "<tr>\n",
       "  <th>Gender_Male</th> <td>   -8.7489</td> <td>   12.961</td> <td>   -0.675</td> <td> 0.500</td> <td>  -34.229</td> <td>   16.732</td>\n",
       "</tr>\n",
       "</table>"
      ],
      "text/plain": [
       "<class 'statsmodels.iolib.table.SimpleTable'>"
      ]
     },
     "metadata": {},
     "output_type": "display_data"
    },
    {
     "name": "stdout",
     "output_type": "stream",
     "text": [
      "\n",
      "\u001b[34m*******************************************************\u001b[0m\n"
     ]
    },
    {
     "data": {
      "text/html": [
       "<table class=\"simpletable\">\n",
       "<tr>\n",
       "       <td></td>          <th>coef</th>     <th>std err</th>      <th>t</th>      <th>P>|t|</th>  <th>[0.025</th>    <th>0.975]</th>  \n",
       "</tr>\n",
       "<tr>\n",
       "  <th>Intercept</th>   <td>  478.6511</td> <td>   20.657</td> <td>   23.171</td> <td> 0.000</td> <td>  438.040</td> <td>  519.263</td>\n",
       "</tr>\n",
       "<tr>\n",
       "  <th>Age</th>         <td>   -0.5035</td> <td>    0.448</td> <td>   -1.124</td> <td> 0.262</td> <td>   -1.384</td> <td>    0.377</td>\n",
       "</tr>\n",
       "<tr>\n",
       "  <th>Gender_Male</th> <td>   -7.7537</td> <td>   12.987</td> <td>   -0.597</td> <td> 0.551</td> <td>  -33.285</td> <td>   17.778</td>\n",
       "</tr>\n",
       "</table>"
      ],
      "text/plain": [
       "<class 'statsmodels.iolib.table.SimpleTable'>"
      ]
     },
     "metadata": {},
     "output_type": "display_data"
    },
    {
     "name": "stdout",
     "output_type": "stream",
     "text": [
      "\n",
      "\u001b[34m*******************************************************\u001b[0m\n"
     ]
    },
    {
     "data": {
      "text/html": [
       "<table class=\"simpletable\">\n",
       "<tr>\n",
       "        <td></td>          <th>coef</th>     <th>std err</th>      <th>t</th>      <th>P>|t|</th>  <th>[0.025</th>    <th>0.975]</th>  \n",
       "</tr>\n",
       "<tr>\n",
       "  <th>Intercept</th>    <td>  492.1929</td> <td>   24.552</td> <td>   20.047</td> <td> 0.000</td> <td>  443.924</td> <td>  540.462</td>\n",
       "</tr>\n",
       "<tr>\n",
       "  <th>Total_Income</th> <td>   -0.0019</td> <td>    0.002</td> <td>   -1.020</td> <td> 0.308</td> <td>   -0.006</td> <td>    0.002</td>\n",
       "</tr>\n",
       "<tr>\n",
       "  <th>Gender_Male</th>  <td>   -7.8984</td> <td>   12.987</td> <td>   -0.608</td> <td> 0.543</td> <td>  -33.430</td> <td>   17.634</td>\n",
       "</tr>\n",
       "<tr>\n",
       "  <th>Age</th>          <td>   -0.5512</td> <td>    0.450</td> <td>   -1.224</td> <td> 0.222</td> <td>   -1.436</td> <td>    0.334</td>\n",
       "</tr>\n",
       "</table>"
      ],
      "text/plain": [
       "<class 'statsmodels.iolib.table.SimpleTable'>"
      ]
     },
     "metadata": {},
     "output_type": "display_data"
    },
    {
     "name": "stdout",
     "output_type": "stream",
     "text": [
      "\n",
      "\u001b[34m*******************************************************\u001b[0m\n"
     ]
    },
    {
     "data": {
      "text/html": [
       "<table class=\"simpletable\">\n",
       "<tr>\n",
       "             <td></td>                <th>coef</th>     <th>std err</th>      <th>t</th>      <th>P>|t|</th>  <th>[0.025</th>    <th>0.975]</th>  \n",
       "</tr>\n",
       "<tr>\n",
       "  <th>Intercept</th>               <td>  318.0671</td> <td>   16.258</td> <td>   19.564</td> <td> 0.000</td> <td>  285.972</td> <td>  350.162</td>\n",
       "</tr>\n",
       "<tr>\n",
       "  <th>Disbursed_Credit_Amount</th> <td>    0.0389</td> <td>    0.002</td> <td>   24.900</td> <td> 0.000</td> <td>    0.036</td> <td>    0.042</td>\n",
       "</tr>\n",
       "<tr>\n",
       "  <th>Gender_Male</th>             <td>    0.9238</td> <td>    7.002</td> <td>    0.132</td> <td> 0.895</td> <td>  -12.898</td> <td>   14.746</td>\n",
       "</tr>\n",
       "<tr>\n",
       "  <th>Age</th>                     <td>    0.3080</td> <td>    0.243</td> <td>    1.269</td> <td> 0.206</td> <td>   -0.171</td> <td>    0.787</td>\n",
       "</tr>\n",
       "<tr>\n",
       "  <th>Total_Income</th>            <td>    0.0009</td> <td>    0.001</td> <td>    0.935</td> <td> 0.351</td> <td>   -0.001</td> <td>    0.003</td>\n",
       "</tr>\n",
       "</table>"
      ],
      "text/plain": [
       "<class 'statsmodels.iolib.table.SimpleTable'>"
      ]
     },
     "metadata": {},
     "output_type": "display_data"
    },
    {
     "name": "stdout",
     "output_type": "stream",
     "text": [
      "\n",
      "\u001b[34m*******************************************************\u001b[0m\n"
     ]
    },
    {
     "data": {
      "text/html": [
       "<table class=\"simpletable\">\n",
       "<tr>\n",
       "             <td></td>                <th>coef</th>     <th>std err</th>      <th>t</th>      <th>P>|t|</th>  <th>[0.025</th>    <th>0.975]</th>  \n",
       "</tr>\n",
       "<tr>\n",
       "  <th>Intercept</th>               <td>  319.3917</td> <td>   16.395</td> <td>   19.481</td> <td> 0.000</td> <td>  287.025</td> <td>  351.758</td>\n",
       "</tr>\n",
       "<tr>\n",
       "  <th>Verification_Any_Yes</th>    <td>   -6.7484</td> <td>    9.732</td> <td>   -0.693</td> <td> 0.489</td> <td>  -25.961</td> <td>   12.464</td>\n",
       "</tr>\n",
       "<tr>\n",
       "  <th>Gender_Male</th>             <td>    1.2157</td> <td>    7.025</td> <td>    0.173</td> <td> 0.863</td> <td>  -12.653</td> <td>   15.084</td>\n",
       "</tr>\n",
       "<tr>\n",
       "  <th>Age</th>                     <td>    0.2956</td> <td>    0.244</td> <td>    1.212</td> <td> 0.227</td> <td>   -0.186</td> <td>    0.777</td>\n",
       "</tr>\n",
       "<tr>\n",
       "  <th>Total_Income</th>            <td>    0.0009</td> <td>    0.001</td> <td>    0.932</td> <td> 0.353</td> <td>   -0.001</td> <td>    0.003</td>\n",
       "</tr>\n",
       "<tr>\n",
       "  <th>Disbursed_Credit_Amount</th> <td>    0.0388</td> <td>    0.002</td> <td>   24.859</td> <td> 0.000</td> <td>    0.036</td> <td>    0.042</td>\n",
       "</tr>\n",
       "</table>"
      ],
      "text/plain": [
       "<class 'statsmodels.iolib.table.SimpleTable'>"
      ]
     },
     "metadata": {},
     "output_type": "display_data"
    },
    {
     "name": "stdout",
     "output_type": "stream",
     "text": [
      "\n",
      "\u001b[34m*******************************************************\u001b[0m\n"
     ]
    },
    {
     "data": {
      "text/html": [
       "<table class=\"simpletable\">\n",
       "<tr>\n",
       "             <td></td>                <th>coef</th>     <th>std err</th>      <th>t</th>      <th>P>|t|</th>  <th>[0.025</th>    <th>0.975]</th>  \n",
       "</tr>\n",
       "<tr>\n",
       "  <th>Intercept</th>               <td>  317.0436</td> <td>   16.450</td> <td>   19.274</td> <td> 0.000</td> <td>  284.568</td> <td>  349.520</td>\n",
       "</tr>\n",
       "<tr>\n",
       "  <th>Marital_Status_Others</th>   <td>   14.4591</td> <td>   10.787</td> <td>    1.340</td> <td> 0.182</td> <td>   -6.837</td> <td>   35.755</td>\n",
       "</tr>\n",
       "<tr>\n",
       "  <th>Gender_Male</th>             <td>   -0.1094</td> <td>    7.078</td> <td>   -0.015</td> <td> 0.988</td> <td>  -14.083</td> <td>   13.864</td>\n",
       "</tr>\n",
       "<tr>\n",
       "  <th>Age</th>                     <td>    0.3168</td> <td>    0.244</td> <td>    1.300</td> <td> 0.195</td> <td>   -0.164</td> <td>    0.798</td>\n",
       "</tr>\n",
       "<tr>\n",
       "  <th>Total_Income</th>            <td>    0.0009</td> <td>    0.001</td> <td>    0.951</td> <td> 0.343</td> <td>   -0.001</td> <td>    0.003</td>\n",
       "</tr>\n",
       "<tr>\n",
       "  <th>Disbursed_Credit_Amount</th> <td>    0.0390</td> <td>    0.002</td> <td>   24.954</td> <td> 0.000</td> <td>    0.036</td> <td>    0.042</td>\n",
       "</tr>\n",
       "<tr>\n",
       "  <th>Verification_Any_Yes</th>    <td>   -7.3492</td> <td>    9.719</td> <td>   -0.756</td> <td> 0.451</td> <td>  -26.538</td> <td>   11.839</td>\n",
       "</tr>\n",
       "</table>"
      ],
      "text/plain": [
       "<class 'statsmodels.iolib.table.SimpleTable'>"
      ]
     },
     "metadata": {},
     "output_type": "display_data"
    },
    {
     "name": "stdout",
     "output_type": "stream",
     "text": [
      "\n",
      "\u001b[34m*******************************************************\u001b[0m\n"
     ]
    },
    {
     "data": {
      "text/html": [
       "<table class=\"simpletable\">\n",
       "<tr>\n",
       "             <td></td>                <th>coef</th>     <th>std err</th>      <th>t</th>      <th>P>|t|</th>  <th>[0.025</th>    <th>0.975]</th>  \n",
       "</tr>\n",
       "<tr>\n",
       "  <th>Intercept</th>               <td>  314.4672</td> <td>   16.673</td> <td>   18.861</td> <td> 0.000</td> <td>  281.549</td> <td>  347.386</td>\n",
       "</tr>\n",
       "<tr>\n",
       "  <th>Marital_Status_Single</th>   <td>    7.5945</td> <td>    7.944</td> <td>    0.956</td> <td> 0.340</td> <td>   -8.090</td> <td>   23.279</td>\n",
       "</tr>\n",
       "<tr>\n",
       "  <th>Gender_Male</th>             <td>    0.6809</td> <td>    7.128</td> <td>    0.096</td> <td> 0.924</td> <td>  -13.392</td> <td>   14.754</td>\n",
       "</tr>\n",
       "<tr>\n",
       "  <th>Age</th>                     <td>    0.3220</td> <td>    0.244</td> <td>    1.320</td> <td> 0.189</td> <td>   -0.160</td> <td>    0.803</td>\n",
       "</tr>\n",
       "<tr>\n",
       "  <th>Total_Income</th>            <td>    0.0009</td> <td>    0.001</td> <td>    0.946</td> <td> 0.345</td> <td>   -0.001</td> <td>    0.003</td>\n",
       "</tr>\n",
       "<tr>\n",
       "  <th>Disbursed_Credit_Amount</th> <td>    0.0389</td> <td>    0.002</td> <td>   24.889</td> <td> 0.000</td> <td>    0.036</td> <td>    0.042</td>\n",
       "</tr>\n",
       "<tr>\n",
       "  <th>Verification_Any_Yes</th>    <td>   -7.6443</td> <td>    9.727</td> <td>   -0.786</td> <td> 0.433</td> <td>  -26.848</td> <td>   11.560</td>\n",
       "</tr>\n",
       "<tr>\n",
       "  <th>Marital_Status_Others</th>   <td>   16.5721</td> <td>   11.014</td> <td>    1.505</td> <td> 0.134</td> <td>   -5.173</td> <td>   38.317</td>\n",
       "</tr>\n",
       "</table>"
      ],
      "text/plain": [
       "<class 'statsmodels.iolib.table.SimpleTable'>"
      ]
     },
     "metadata": {},
     "output_type": "display_data"
    },
    {
     "name": "stdout",
     "output_type": "stream",
     "text": [
      "\n",
      "\u001b[34m*******************************************************\u001b[0m\n"
     ]
    }
   ],
   "source": [
    "# In this example, we select a subset of variables and use them in our model. \n",
    "\n",
    "modeling_data = df_all[['Credit_Score', 'Gender', 'Age', 'Total_Income',  # selecting a subset of variables    \n",
    "                        'Disbursed_Credit_Amount', 'Verification_Any', 'Marital_Status']]\n",
    "\n",
    "qual = ['Verification_Any', 'Marital_Status', 'Gender']\n",
    "\n",
    "modeling_data = pd.get_dummies(modeling_data, columns = qual, drop_first = True)\n",
    "\n",
    "X = modeling_data.drop(['Credit_Score'], axis = 1)\n",
    "first_column = X.pop('Gender_Male')\n",
    "X.insert(0, 'Gender_Male', first_column)\n",
    "\n",
    "y = modeling_data['Credit_Score']\n",
    "\n",
    "add_stepwise(X, y)"
   ]
  },
  {
   "cell_type": "markdown",
   "id": "bc3de391",
   "metadata": {},
   "source": [
    "************************************"
   ]
  },
  {
   "attachments": {
    "image-2.png": {
     "image/png": "[encoded data removed]"
    }
   },
   "cell_type": "markdown",
   "id": "dd630dad",
   "metadata": {},
   "source": [
    "#### 2.4. Auditing for individual-level fairness using regression discontinuity:\n",
    "##### Using a quasi-experimental approach to audit gender fairness\n",
    "\n",
    "Regression discontinuity design (RDD) is a quasi experimental design that is typically used to determine the causal effects of interventions by comparing outcomes for observations where there are (arbitrary) cutoffs or thresholds above or below which an intervention is assigned. \n",
    "\n",
    "The intuition is that observations lying closely on either side of the thresholds are likely to have much more similar characteristics, which increases the validity of the comparison. In our case, we co-opt the method for purposes of bias assessment by testing whether women and men applicants appear to show different discontinuities (e.g., in terms of approval rates or loan terms) around key credit score or risk thresholds of the lender. Many lenders use some form of credit score-- whether external or in-house--to segment borrowers into different risk categories, which have bearing on loan approval and/or loan terms to be provided. For some lenders, we find that these can often be “fuzzy” thresholds (e.g., they provide minimum requirements but do not always equate with automated loan approval) and/or that approval or provided loan terms take into consideration additional human decisions (e.g., in the case of hybrid credit assessment approaches). In such cases, RDD can provide an intuitive method for assessing bias across a range of outcomes. Broadly speaking, the approach can be separated into two steps. First, the auditor should identify any cutoff or risk thresholds that are used by the lender for decisions on approval or loan terms. For example, credit scores may be categorized into high, medium, or low risk. This categorization is a subjective exercise that is dependent on the actual process of a given lender (there is a sample piece of code in the appendix section that shows how you yourself can create risk categories). The second step is to audit for gender bias in each category. The bias audit can leverage a range of statistical methods, but we generally suggest using least squares regression for any continuous dependent variables and logit regression for any binary dependent variables. The goal is to assess whether men and women applicants who are close to the cutoff points—and who would be assumed to be fairly similar to one another—have a different likelihood of approval or other loan terms such as loan amount, interest rate, or loan tenure.\n",
    "\n",
    "The table below provides a template for how an auditor could use RDD to assess the presence of gender bias by comparing approval rates for men and women who are right above and below a hypothetical minimum approval threshold. In the example, the RDD model is re-run using varying windows around the minimum approval threshold (e.g., +/- 15, 30, 45, and 60 points) to test for robustness of the results. Working with our FSP partners, we used +/- 15, 30, 45, and 60 points as bandwidths. That being said, an auditor may need to pick other bandwidths for the audit process. The RDD can also be run conditionally, through the addition of other relevant controls. \n",
    "\n",
    "Based on the model output (reflected in the table below), the auditor can compare women to men; differences in the regression coefficient (indicating differences in magnitude between windows); and how these change with the presence or absence of further control variables.\n",
    "\n",
    "\n",
    "![image-2.png](attachment:image-2.png)"
   ]
  },
  {
   "cell_type": "markdown",
   "id": "6c4d51d0",
   "metadata": {},
   "source": [
    "***"
   ]
  },
  {
   "cell_type": "markdown",
   "id": "6fcea99f",
   "metadata": {},
   "source": [
    "##### <span style='color:red'> Code 11:  </span>\n"
   ]
  },
  {
   "cell_type": "markdown",
   "id": "65ce45e6",
   "metadata": {},
   "source": [
    "RDD_preliminary is a function that takes four arguments: \n",
    "* argument 1. a dataframe object (ideally containing all the applicants)  \n",
    "* argument 2. name of the variable used for credit score/credit model \n",
    "* argument 3. the threshold in which a new risk category starts and another category ends.\n",
    "* argument 4. the width of the window that an auditor uses in the RDD design  \n",
    "\n",
    "We used the suffix 'preliminary' for this function, because other RDD functions that perform the bias detection are going to use the 'RDD_preliminary' function. "
   ]
  },
  {
   "cell_type": "code",
   "execution_count": 104,
   "id": "bdbd2b97",
   "metadata": {},
   "outputs": [],
   "source": [
    "def RDD_preliminary(df, score, start, window):     \n",
    "    \n",
    "    while True:                                                                        # validate the value of 'start' argument\n",
    "        start = int(start)\n",
    "        if start > 0 :\n",
    "            break\n",
    "        else :\n",
    "            print('enter a valid value!')\n",
    "            break\n",
    "    \n",
    "    while True:                                                                         # validate the value of 'window' argument\n",
    "        window = int(window)\n",
    "        if window > 0 and window < (df[str(score)].max() - df[str(score)].min()):  \n",
    "            break\n",
    "        else:\n",
    "            print('enter a valid value!')\n",
    "            break\n",
    "                    \n",
    "    df_new = df.loc[(df[str(score)] < start + window) & (df[str(score)] > start - window)] # create a new dataframe \n",
    "    \n",
    "    def above_below_constructor(dt):                                                       # create a dummy variable to show\n",
    "        if (dt[str(score)] > start):                                                       # whether an applicant is above or\n",
    "            val = 'Yes'                                                                    # below the RDD threshold ('start')  \n",
    "        else:\n",
    "            val = 'No'       \n",
    "        return val\n",
    "\n",
    "    df_new['Above_threshold'] = df_new.apply(above_below_constructor, axis = 1) \n",
    "\n",
    "    return df_new"
   ]
  },
  {
   "cell_type": "markdown",
   "id": "a85a8571",
   "metadata": {},
   "source": [
    "##### <span style='color:orange'> Example 11:  </span>"
   ]
  },
  {
   "cell_type": "code",
   "execution_count": 281,
   "id": "71498e69",
   "metadata": {},
   "outputs": [],
   "source": [
    "RDD_df = RDD_preliminary(df_all, 'Credit_Score' , 400, 100)  # create an RDD dataset"
   ]
  },
  {
   "cell_type": "markdown",
   "id": "b50a4a53",
   "metadata": {},
   "source": [
    "***"
   ]
  },
  {
   "cell_type": "markdown",
   "id": "611d5dad",
   "metadata": {},
   "source": [
    "##### <span style='color:red'> Code 12:  </span>\n"
   ]
  },
  {
   "cell_type": "markdown",
   "id": "992e2f27",
   "metadata": {},
   "source": [
    "add_stepwise_logistic_RDD is a function that lets the auditor assess the presence of bias on the thresholds of different risk categories. This function can perform both conditional and unconditional assessment. However, it does not assess the interaction effect of different variables (*). An auditor can use this function for bias detection when the outcome variable is categorical.\n",
    "\n",
    "add_stepwise_logistic_RDD takes three arguments: \n",
    "\n",
    "* argument 1 (X): a dataframe object containing all the predictors that the auditor wants to include in the model.\n",
    "\n",
    "* argument 2 (y): a series containing the outcome variable of the model.\n",
    "\n",
    "* argument 3: name of the variable (loan term) that the auditor wants to assess its fairness\n",
    "\n",
    "*To assess the interaction effect use the 'add_stepwise_logistic_RDD_Interaction' function. "
   ]
  },
  {
   "cell_type": "code",
   "execution_count": 284,
   "id": "1d2ea7fd",
   "metadata": {},
   "outputs": [],
   "source": [
    "def add_stepwise_logistic_RDD(X, y, var_input):  \n",
    "   \n",
    "    p_all = list(X.columns)\n",
    "    p_used = []\n",
    "    p_unused = [p for p in p_all if p not in p_used]\n",
    "          \n",
    "    r = []\n",
    "    for p in p_unused:\n",
    "        f = '{Var_of_interest} ~ {var_combination}'.format(Var_of_interest = str(var_input), var_combination = ' + '.join([p] + p_used))        \n",
    "        p_used.append(p)\n",
    "        \n",
    "        model = smf.glm(formula = f, data = pd.concat([X, y], axis = 1), family = sm.families.Binomial()).fit()\n",
    "        results_as_html_1 = model.summary().tables[1]\n",
    "        display(results_as_html_1)\n",
    "        print('')\n",
    "        print(colored('*******************************************************', 'blue'))"
   ]
  },
  {
   "cell_type": "markdown",
   "id": "08e42ef6",
   "metadata": {},
   "source": [
    "##### <span style='color:orange'> Example 12:  </span>"
   ]
  },
  {
   "cell_type": "code",
   "execution_count": 286,
   "id": "6c046580",
   "metadata": {},
   "outputs": [
    {
     "data": {
      "text/html": [
       "<table class=\"simpletable\">\n",
       "<tr>\n",
       "       <td></td>          <th>coef</th>     <th>std err</th>      <th>z</th>      <th>P>|z|</th>  <th>[0.025</th>    <th>0.975]</th>  \n",
       "</tr>\n",
       "<tr>\n",
       "  <th>Intercept</th>   <td>   -0.4884</td> <td>    0.244</td> <td>   -1.998</td> <td> 0.046</td> <td>   -0.968</td> <td>   -0.009</td>\n",
       "</tr>\n",
       "<tr>\n",
       "  <th>Gender_Male</th> <td>   -0.3754</td> <td>    0.305</td> <td>   -1.232</td> <td> 0.218</td> <td>   -0.973</td> <td>    0.222</td>\n",
       "</tr>\n",
       "</table>"
      ],
      "text/plain": [
       "<class 'statsmodels.iolib.table.SimpleTable'>"
      ]
     },
     "metadata": {},
     "output_type": "display_data"
    },
    {
     "name": "stdout",
     "output_type": "stream",
     "text": [
      "\n",
      "\u001b[34m*******************************************************\u001b[0m\n"
     ]
    },
    {
     "data": {
      "text/html": [
       "<table class=\"simpletable\">\n",
       "<tr>\n",
       "        <td></td>          <th>coef</th>     <th>std err</th>      <th>z</th>      <th>P>|z|</th>  <th>[0.025</th>    <th>0.975]</th>  \n",
       "</tr>\n",
       "<tr>\n",
       "  <th>Intercept</th>    <td>  -10.5374</td> <td>    1.542</td> <td>   -6.833</td> <td> 0.000</td> <td>  -13.560</td> <td>   -7.515</td>\n",
       "</tr>\n",
       "<tr>\n",
       "  <th>Credit_Score</th> <td>    0.0246</td> <td>    0.004</td> <td>    6.775</td> <td> 0.000</td> <td>    0.017</td> <td>    0.032</td>\n",
       "</tr>\n",
       "<tr>\n",
       "  <th>Gender_Male</th>  <td>   -0.5480</td> <td>    0.364</td> <td>   -1.506</td> <td> 0.132</td> <td>   -1.261</td> <td>    0.165</td>\n",
       "</tr>\n",
       "</table>"
      ],
      "text/plain": [
       "<class 'statsmodels.iolib.table.SimpleTable'>"
      ]
     },
     "metadata": {},
     "output_type": "display_data"
    },
    {
     "name": "stdout",
     "output_type": "stream",
     "text": [
      "\n",
      "\u001b[34m*******************************************************\u001b[0m\n"
     ]
    },
    {
     "data": {
      "text/html": [
       "<table class=\"simpletable\">\n",
       "<tr>\n",
       "           <td></td>              <th>coef</th>     <th>std err</th>      <th>z</th>      <th>P>|z|</th>  <th>[0.025</th>    <th>0.975]</th>  \n",
       "</tr>\n",
       "<tr>\n",
       "  <th>Intercept</th>           <td>   -6.4421</td> <td>    2.248</td> <td>   -2.865</td> <td> 0.004</td> <td>  -10.849</td> <td>   -2.035</td>\n",
       "</tr>\n",
       "<tr>\n",
       "  <th>Above_threshold_Yes</th> <td>    1.6940</td> <td>    0.728</td> <td>    2.325</td> <td> 0.020</td> <td>    0.266</td> <td>    3.122</td>\n",
       "</tr>\n",
       "<tr>\n",
       "  <th>Gender_Male</th>         <td>   -0.4751</td> <td>    0.373</td> <td>   -1.273</td> <td> 0.203</td> <td>   -1.207</td> <td>    0.256</td>\n",
       "</tr>\n",
       "<tr>\n",
       "  <th>Credit_Score</th>        <td>    0.0120</td> <td>    0.006</td> <td>    1.905</td> <td> 0.057</td> <td>   -0.000</td> <td>    0.024</td>\n",
       "</tr>\n",
       "</table>"
      ],
      "text/plain": [
       "<class 'statsmodels.iolib.table.SimpleTable'>"
      ]
     },
     "metadata": {},
     "output_type": "display_data"
    },
    {
     "name": "stdout",
     "output_type": "stream",
     "text": [
      "\n",
      "\u001b[34m*******************************************************\u001b[0m\n"
     ]
    }
   ],
   "source": [
    "RDD_subset_data = RDD_df[['Credit_Score', 'Gender', 'Credit_Decision', 'Above_threshold']]\n",
    "\n",
    "qual = ['Credit_Decision',  'Gender', 'Above_threshold']\n",
    "\n",
    "RDD_subset_data = pd.get_dummies(RDD_subset_data, columns = qual, drop_first = True)\n",
    "\n",
    "X = RDD_subset_data.drop(['Credit_Decision_Yes'], axis = 1)\n",
    "first_column = X.pop('Gender_Male')\n",
    "X.insert(0, 'Gender_Male', first_column)\n",
    "\n",
    "y = RDD_subset_data['Credit_Decision_Yes']\n",
    "\n",
    "add_stepwise_logistic_RDD(X, y, 'Credit_Decision_Yes')"
   ]
  },
  {
   "cell_type": "markdown",
   "id": "ac8c726b",
   "metadata": {},
   "source": [
    "***"
   ]
  },
  {
   "cell_type": "markdown",
   "id": "4702a179",
   "metadata": {},
   "source": [
    "##### <span style='color:red'> Code 13:  </span>"
   ]
  },
  {
   "cell_type": "markdown",
   "id": "d84122ef",
   "metadata": {},
   "source": [
    "add_stepwise_logistic_RDD_Interaction is a function that lets an auditor assess the presence of bias on the thresholds of different risk categories. It helps the auditor to assess the interaction effect between 'gender' and 'above/below the threshold' variables when the outcome variable is a binary variable. \n",
    "\n",
    "add_stepwise_logistic_RDD_Interaction takes two arguments:\n",
    "* argument 1 (X): a dataframe containing all the predictors that the auditor wants to include in the model.\n",
    "\n",
    "* argument 2 (y): a series containing the outcome variable of the model.\n",
    "\n",
    "* argument 3: name of the variable (loan term) that the auditor wants to assess its fairness "
   ]
  },
  {
   "cell_type": "code",
   "execution_count": 287,
   "id": "682ef820",
   "metadata": {},
   "outputs": [],
   "source": [
    "def add_stepwise_logistic_RDD_Interaction(X, y, var_input):\n",
    "   \n",
    "    p_all = list(X.columns)\n",
    "    p_used = []\n",
    "    p_unused = [p for p in p_all if p not in p_used]\n",
    "            \n",
    "    r = []\n",
    "    for p in p_unused:\n",
    "        f = '{Var_of_interest} ~ {var_combination}'.format(Var_of_interest = str(var_input), var_combination = ' + '.join([p] + p_used)) \n",
    "              \n",
    "        p_used.append(p)\n",
    "        \n",
    "        model = smf.glm(formula = f, data = pd.concat([X, y], axis = 1), family = sm.families.Binomial()).fit()\n",
    "        results_as_html_1 = model.summary().tables[1]\n",
    "        display(results_as_html_1)\n",
    "        print('')\n",
    "        print(colored('*******************************************************', 'blue'))"
   ]
  },
  {
   "cell_type": "markdown",
   "id": "06fc9bb6",
   "metadata": {},
   "source": [
    "##### <span style='color:orange'> Example 13:  </span>"
   ]
  },
  {
   "cell_type": "code",
   "execution_count": 288,
   "id": "193e4f34",
   "metadata": {
    "scrolled": true
   },
   "outputs": [
    {
     "data": {
      "text/html": [
       "<table class=\"simpletable\">\n",
       "<tr>\n",
       "       <td></td>          <th>coef</th>     <th>std err</th>      <th>z</th>      <th>P>|z|</th>  <th>[0.025</th>    <th>0.975]</th>  \n",
       "</tr>\n",
       "<tr>\n",
       "  <th>Intercept</th>   <td>   -0.4884</td> <td>    0.244</td> <td>   -1.998</td> <td> 0.046</td> <td>   -0.968</td> <td>   -0.009</td>\n",
       "</tr>\n",
       "<tr>\n",
       "  <th>Gender_Male</th> <td>   -0.3754</td> <td>    0.305</td> <td>   -1.232</td> <td> 0.218</td> <td>   -0.973</td> <td>    0.222</td>\n",
       "</tr>\n",
       "</table>"
      ],
      "text/plain": [
       "<class 'statsmodels.iolib.table.SimpleTable'>"
      ]
     },
     "metadata": {},
     "output_type": "display_data"
    },
    {
     "name": "stdout",
     "output_type": "stream",
     "text": [
      "\n",
      "\u001b[34m*******************************************************\u001b[0m\n"
     ]
    },
    {
     "data": {
      "text/html": [
       "<table class=\"simpletable\">\n",
       "<tr>\n",
       "           <td></td>              <th>coef</th>     <th>std err</th>      <th>z</th>      <th>P>|z|</th>  <th>[0.025</th>    <th>0.975]</th>  \n",
       "</tr>\n",
       "<tr>\n",
       "  <th>Intercept</th>           <td>   -2.2917</td> <td>    0.432</td> <td>   -5.307</td> <td> 0.000</td> <td>   -3.138</td> <td>   -1.445</td>\n",
       "</tr>\n",
       "<tr>\n",
       "  <th>Above_threshold_Yes</th> <td>    2.8903</td> <td>    0.418</td> <td>    6.916</td> <td> 0.000</td> <td>    2.071</td> <td>    3.709</td>\n",
       "</tr>\n",
       "<tr>\n",
       "  <th>Gender_Male</th>         <td>   -0.3880</td> <td>    0.367</td> <td>   -1.056</td> <td> 0.291</td> <td>   -1.108</td> <td>    0.332</td>\n",
       "</tr>\n",
       "</table>"
      ],
      "text/plain": [
       "<class 'statsmodels.iolib.table.SimpleTable'>"
      ]
     },
     "metadata": {},
     "output_type": "display_data"
    },
    {
     "name": "stdout",
     "output_type": "stream",
     "text": [
      "\n",
      "\u001b[34m*******************************************************\u001b[0m\n"
     ]
    }
   ],
   "source": [
    "RDD_subset_data = RDD_df[['Gender', 'Above_threshold', 'Credit_Decision']]\n",
    "\n",
    "qual = ['Gender', 'Above_threshold', 'Credit_Decision']\n",
    "\n",
    "RDD_subset_data = pd.get_dummies(RDD_subset_data, columns = qual, drop_first = True)\n",
    "\n",
    "X = RDD_subset_data.drop(['Credit_Decision_Yes'], axis = 1)\n",
    "first_column = X.pop('Gender_Male')\n",
    "X.insert(0, 'Gender_Male', first_column)\n",
    "\n",
    "y = RDD_subset_data['Credit_Decision_Yes']\n",
    "\n",
    "add_stepwise_logistic_RDD_Interaction(X, y, 'Credit_Decision_Yes')"
   ]
  },
  {
   "cell_type": "markdown",
   "id": "98482913",
   "metadata": {},
   "source": [
    "***"
   ]
  },
  {
   "cell_type": "markdown",
   "id": "32de5330",
   "metadata": {},
   "source": [
    "##### <span style='color:red'> Code 14:  </span>"
   ]
  },
  {
   "cell_type": "markdown",
   "id": "8a5292b6",
   "metadata": {},
   "source": [
    "add_stepwise_RDD_Interaction is a function that lets an auditor assess the presence of bias on the thresholds of different risk categories. This function can perform both conditional and unconditional assessment. However, it does not assess the interaction effect of different variables(*). An auditor can use this function for bias detection when the outcome variable is continuous.\n",
    "\n",
    "add_stepwise_RDD_Interaction takes two arguments:\n",
    "* argument 1 (X): a dataframe containing all the predictors that auditor wants to include in the model.\n",
    "\n",
    "* argument 2 (y): a series containing the outcome variable of model.\n",
    "\n",
    "* argument 3: name of the variable (loan term) that the auditor wants to assess its fairness \n",
    "\n",
    "\n",
    "*To assess the interaction effect use the 'add_stepwise_RDD_Interaction' function."
   ]
  },
  {
   "cell_type": "code",
   "execution_count": 289,
   "id": "29657a2f",
   "metadata": {},
   "outputs": [],
   "source": [
    "def add_stepwise_RDD(X, y, var_input):\n",
    "   \n",
    "    p_all = list(X.columns)\n",
    "    p_used = []\n",
    "    p_unused = [p for p in p_all if p not in p_used]\n",
    "        \n",
    "    \n",
    "    r = []\n",
    "    for p in p_unused:\n",
    "        f = '{Var_of_interest} ~ {var_combination}'.format(Var_of_interest = str(var_input), var_combination = ' + '.join([p] + p_used))\n",
    "        \n",
    "        p_used.append(p)\n",
    "        \n",
    "        model = smf.ols(formula = f, data = pd.concat([X, y], axis = 1)).fit()\n",
    "        results_as_html_1 = model.summary().tables[1]\n",
    "        display(results_as_html_1)\n",
    "        print('')\n",
    "        print(colored('*******************************************************', 'blue'))\n",
    "        print('')    "
   ]
  },
  {
   "cell_type": "markdown",
   "id": "6d4a2852",
   "metadata": {},
   "source": [
    "##### <span style='color:orange'> Example 14:  </span>"
   ]
  },
  {
   "cell_type": "code",
   "execution_count": 290,
   "id": "c8bc54d0",
   "metadata": {
    "scrolled": false
   },
   "outputs": [
    {
     "data": {
      "text/html": [
       "<table class=\"simpletable\">\n",
       "<tr>\n",
       "       <td></td>          <th>coef</th>     <th>std err</th>      <th>t</th>      <th>P>|t|</th>  <th>[0.025</th>    <th>0.975]</th>  \n",
       "</tr>\n",
       "<tr>\n",
       "  <th>Intercept</th>   <td> 2680.0370</td> <td>  137.215</td> <td>   19.532</td> <td> 0.000</td> <td> 2406.228</td> <td> 2953.846</td>\n",
       "</tr>\n",
       "<tr>\n",
       "  <th>Gender_Male</th> <td>   92.2653</td> <td>  175.072</td> <td>    0.527</td> <td> 0.600</td> <td> -257.086</td> <td>  441.617</td>\n",
       "</tr>\n",
       "</table>"
      ],
      "text/plain": [
       "<class 'statsmodels.iolib.table.SimpleTable'>"
      ]
     },
     "metadata": {},
     "output_type": "display_data"
    },
    {
     "name": "stdout",
     "output_type": "stream",
     "text": [
      "\n",
      "\u001b[34m*******************************************************\u001b[0m\n",
      "\n"
     ]
    },
    {
     "data": {
      "text/html": [
       "<table class=\"simpletable\">\n",
       "<tr>\n",
       "        <td></td>          <th>coef</th>     <th>std err</th>      <th>t</th>      <th>P>|t|</th>  <th>[0.025</th>    <th>0.975]</th>  \n",
       "</tr>\n",
       "<tr>\n",
       "  <th>Intercept</th>    <td>-2524.9957</td> <td>  567.430</td> <td>   -4.450</td> <td> 0.000</td> <td>-3657.590</td> <td>-1392.401</td>\n",
       "</tr>\n",
       "<tr>\n",
       "  <th>Credit_Score</th> <td>   11.8796</td> <td>    1.278</td> <td>    9.294</td> <td> 0.000</td> <td>    9.328</td> <td>   14.431</td>\n",
       "</tr>\n",
       "<tr>\n",
       "  <th>Gender_Male</th>  <td>  -37.7556</td> <td>  117.405</td> <td>   -0.322</td> <td> 0.749</td> <td> -272.098</td> <td>  196.586</td>\n",
       "</tr>\n",
       "</table>"
      ],
      "text/plain": [
       "<class 'statsmodels.iolib.table.SimpleTable'>"
      ]
     },
     "metadata": {},
     "output_type": "display_data"
    },
    {
     "name": "stdout",
     "output_type": "stream",
     "text": [
      "\n",
      "\u001b[34m*******************************************************\u001b[0m\n",
      "\n"
     ]
    },
    {
     "data": {
      "text/html": [
       "<table class=\"simpletable\">\n",
       "<tr>\n",
       "        <td></td>          <th>coef</th>     <th>std err</th>      <th>t</th>      <th>P>|t|</th>  <th>[0.025</th>    <th>0.975]</th>  \n",
       "</tr>\n",
       "<tr>\n",
       "  <th>Intercept</th>    <td>-2528.4138</td> <td>  564.151</td> <td>   -4.482</td> <td> 0.000</td> <td>-3654.777</td> <td>-1402.051</td>\n",
       "</tr>\n",
       "<tr>\n",
       "  <th>Age</th>          <td>   -5.3257</td> <td>    3.989</td> <td>   -1.335</td> <td> 0.186</td> <td>  -13.290</td> <td>    2.639</td>\n",
       "</tr>\n",
       "<tr>\n",
       "  <th>Gender_Male</th>  <td>  -24.7445</td> <td>  117.132</td> <td>   -0.211</td> <td> 0.833</td> <td> -258.606</td> <td>  209.117</td>\n",
       "</tr>\n",
       "<tr>\n",
       "  <th>Credit_Score</th> <td>   12.3610</td> <td>    1.321</td> <td>    9.358</td> <td> 0.000</td> <td>    9.724</td> <td>   14.998</td>\n",
       "</tr>\n",
       "</table>"
      ],
      "text/plain": [
       "<class 'statsmodels.iolib.table.SimpleTable'>"
      ]
     },
     "metadata": {},
     "output_type": "display_data"
    },
    {
     "name": "stdout",
     "output_type": "stream",
     "text": [
      "\n",
      "\u001b[34m*******************************************************\u001b[0m\n",
      "\n"
     ]
    },
    {
     "data": {
      "text/html": [
       "<table class=\"simpletable\">\n",
       "<tr>\n",
       "        <td></td>          <th>coef</th>     <th>std err</th>      <th>t</th>      <th>P>|t|</th>  <th>[0.025</th>    <th>0.975]</th>  \n",
       "</tr>\n",
       "<tr>\n",
       "  <th>Intercept</th>    <td>-2501.0465</td> <td>  572.438</td> <td>   -4.369</td> <td> 0.000</td> <td>-3644.283</td> <td>-1357.810</td>\n",
       "</tr>\n",
       "<tr>\n",
       "  <th>Total_Income</th> <td>   -0.0058</td> <td>    0.015</td> <td>   -0.378</td> <td> 0.706</td> <td>   -0.036</td> <td>    0.025</td>\n",
       "</tr>\n",
       "<tr>\n",
       "  <th>Gender_Male</th>  <td>  -23.5954</td> <td>  117.939</td> <td>   -0.200</td> <td> 0.842</td> <td> -259.135</td> <td>  211.945</td>\n",
       "</tr>\n",
       "<tr>\n",
       "  <th>Credit_Score</th> <td>   12.3927</td> <td>    1.332</td> <td>    9.302</td> <td> 0.000</td> <td>    9.732</td> <td>   15.053</td>\n",
       "</tr>\n",
       "<tr>\n",
       "  <th>Age</th>          <td>   -5.4169</td> <td>    4.022</td> <td>   -1.347</td> <td> 0.183</td> <td>  -13.450</td> <td>    2.616</td>\n",
       "</tr>\n",
       "</table>"
      ],
      "text/plain": [
       "<class 'statsmodels.iolib.table.SimpleTable'>"
      ]
     },
     "metadata": {},
     "output_type": "display_data"
    },
    {
     "name": "stdout",
     "output_type": "stream",
     "text": [
      "\n",
      "\u001b[34m*******************************************************\u001b[0m\n",
      "\n"
     ]
    },
    {
     "data": {
      "text/html": [
       "<table class=\"simpletable\">\n",
       "<tr>\n",
       "            <td></td>              <th>coef</th>     <th>std err</th>      <th>t</th>      <th>P>|t|</th>  <th>[0.025</th>    <th>0.975]</th>  \n",
       "</tr>\n",
       "<tr>\n",
       "  <th>Intercept</th>            <td>-2494.7746</td> <td>  576.949</td> <td>   -4.324</td> <td> 0.000</td> <td>-3647.363</td> <td>-1342.186</td>\n",
       "</tr>\n",
       "<tr>\n",
       "  <th>Verification_Any_Yes</th> <td>  -46.8136</td> <td>  164.537</td> <td>   -0.285</td> <td> 0.777</td> <td> -375.514</td> <td>  281.886</td>\n",
       "</tr>\n",
       "<tr>\n",
       "  <th>Gender_Male</th>          <td>  -20.8964</td> <td>  119.160</td> <td>   -0.175</td> <td> 0.861</td> <td> -258.945</td> <td>  217.152</td>\n",
       "</tr>\n",
       "<tr>\n",
       "  <th>Credit_Score</th>         <td>   12.4013</td> <td>    1.342</td> <td>    9.240</td> <td> 0.000</td> <td>    9.720</td> <td>   15.082</td>\n",
       "</tr>\n",
       "<tr>\n",
       "  <th>Age</th>                  <td>   -5.5173</td> <td>    4.066</td> <td>   -1.357</td> <td> 0.180</td> <td>  -13.641</td> <td>    2.606</td>\n",
       "</tr>\n",
       "<tr>\n",
       "  <th>Total_Income</th>         <td>   -0.0059</td> <td>    0.015</td> <td>   -0.385</td> <td> 0.702</td> <td>   -0.037</td> <td>    0.025</td>\n",
       "</tr>\n",
       "</table>"
      ],
      "text/plain": [
       "<class 'statsmodels.iolib.table.SimpleTable'>"
      ]
     },
     "metadata": {},
     "output_type": "display_data"
    },
    {
     "name": "stdout",
     "output_type": "stream",
     "text": [
      "\n",
      "\u001b[34m*******************************************************\u001b[0m\n",
      "\n"
     ]
    },
    {
     "data": {
      "text/html": [
       "<table class=\"simpletable\">\n",
       "<tr>\n",
       "            <td></td>               <th>coef</th>     <th>std err</th>      <th>t</th>      <th>P>|t|</th>  <th>[0.025</th>    <th>0.975]</th>  \n",
       "</tr>\n",
       "<tr>\n",
       "  <th>Intercept</th>             <td>-2466.4268</td> <td>  578.190</td> <td>   -4.266</td> <td> 0.000</td> <td>-3621.848</td> <td>-1311.005</td>\n",
       "</tr>\n",
       "<tr>\n",
       "  <th>Marital_Status_Others</th> <td> -183.7516</td> <td>  194.037</td> <td>   -0.947</td> <td> 0.347</td> <td> -571.504</td> <td>  204.001</td>\n",
       "</tr>\n",
       "<tr>\n",
       "  <th>Gender_Male</th>           <td>  -10.7567</td> <td>  119.736</td> <td>   -0.090</td> <td> 0.929</td> <td> -250.029</td> <td>  228.516</td>\n",
       "</tr>\n",
       "<tr>\n",
       "  <th>Credit_Score</th>          <td>   12.4049</td> <td>    1.343</td> <td>    9.236</td> <td> 0.000</td> <td>    9.721</td> <td>   15.089</td>\n",
       "</tr>\n",
       "<tr>\n",
       "  <th>Age</th>                   <td>   -5.8690</td> <td>    4.087</td> <td>   -1.436</td> <td> 0.156</td> <td>  -14.035</td> <td>    2.298</td>\n",
       "</tr>\n",
       "<tr>\n",
       "  <th>Total_Income</th>          <td>   -0.0059</td> <td>    0.015</td> <td>   -0.384</td> <td> 0.702</td> <td>   -0.037</td> <td>    0.025</td>\n",
       "</tr>\n",
       "<tr>\n",
       "  <th>Verification_Any_Yes</th>  <td>  -70.3636</td> <td>  166.537</td> <td>   -0.423</td> <td> 0.674</td> <td> -403.161</td> <td>  262.434</td>\n",
       "</tr>\n",
       "</table>"
      ],
      "text/plain": [
       "<class 'statsmodels.iolib.table.SimpleTable'>"
      ]
     },
     "metadata": {},
     "output_type": "display_data"
    },
    {
     "name": "stdout",
     "output_type": "stream",
     "text": [
      "\n",
      "\u001b[34m*******************************************************\u001b[0m\n",
      "\n"
     ]
    },
    {
     "data": {
      "text/html": [
       "<table class=\"simpletable\">\n",
       "<tr>\n",
       "            <td></td>               <th>coef</th>     <th>std err</th>      <th>t</th>      <th>P>|t|</th>  <th>[0.025</th>    <th>0.975]</th>  \n",
       "</tr>\n",
       "<tr>\n",
       "  <th>Intercept</th>             <td>-2459.4284</td> <td>  583.187</td> <td>   -4.217</td> <td> 0.000</td> <td>-3625.203</td> <td>-1293.654</td>\n",
       "</tr>\n",
       "<tr>\n",
       "  <th>Marital_Status_Single</th> <td>   36.4682</td> <td>  143.906</td> <td>    0.253</td> <td> 0.801</td> <td> -251.196</td> <td>  324.132</td>\n",
       "</tr>\n",
       "<tr>\n",
       "  <th>Gender_Male</th>           <td>   -7.2613</td> <td>  121.421</td> <td>   -0.060</td> <td> 0.953</td> <td> -249.978</td> <td>  235.456</td>\n",
       "</tr>\n",
       "<tr>\n",
       "  <th>Credit_Score</th>          <td>   12.3504</td> <td>    1.370</td> <td>    9.013</td> <td> 0.000</td> <td>    9.611</td> <td>   15.090</td>\n",
       "</tr>\n",
       "<tr>\n",
       "  <th>Age</th>                   <td>   -5.7625</td> <td>    4.139</td> <td>   -1.392</td> <td> 0.169</td> <td>  -14.036</td> <td>    2.511</td>\n",
       "</tr>\n",
       "<tr>\n",
       "  <th>Total_Income</th>          <td>   -0.0055</td> <td>    0.016</td> <td>   -0.356</td> <td> 0.723</td> <td>   -0.037</td> <td>    0.026</td>\n",
       "</tr>\n",
       "<tr>\n",
       "  <th>Verification_Any_Yes</th>  <td>  -80.2350</td> <td>  172.250</td> <td>   -0.466</td> <td> 0.643</td> <td> -424.558</td> <td>  264.088</td>\n",
       "</tr>\n",
       "<tr>\n",
       "  <th>Marital_Status_Others</th> <td> -175.6471</td> <td>  198.093</td> <td>   -0.887</td> <td> 0.379</td> <td> -571.630</td> <td>  220.336</td>\n",
       "</tr>\n",
       "</table>"
      ],
      "text/plain": [
       "<class 'statsmodels.iolib.table.SimpleTable'>"
      ]
     },
     "metadata": {},
     "output_type": "display_data"
    },
    {
     "name": "stdout",
     "output_type": "stream",
     "text": [
      "\n",
      "\u001b[34m*******************************************************\u001b[0m\n",
      "\n"
     ]
    },
    {
     "data": {
      "text/html": [
       "<table class=\"simpletable\">\n",
       "<tr>\n",
       "            <td></td>               <th>coef</th>     <th>std err</th>      <th>t</th>      <th>P>|t|</th>  <th>[0.025</th>    <th>0.975]</th>  \n",
       "</tr>\n",
       "<tr>\n",
       "  <th>Intercept</th>             <td>  629.3613</td> <td>  504.174</td> <td>    1.248</td> <td> 0.217</td> <td> -378.797</td> <td> 1637.520</td>\n",
       "</tr>\n",
       "<tr>\n",
       "  <th>Above_threshold_Yes</th>   <td> 1899.5952</td> <td>  204.737</td> <td>    9.278</td> <td> 0.000</td> <td> 1490.197</td> <td> 2308.993</td>\n",
       "</tr>\n",
       "<tr>\n",
       "  <th>Gender_Male</th>           <td>   99.5938</td> <td>   79.669</td> <td>    1.250</td> <td> 0.216</td> <td>  -59.715</td> <td>  258.902</td>\n",
       "</tr>\n",
       "<tr>\n",
       "  <th>Credit_Score</th>          <td>    1.2019</td> <td>    1.495</td> <td>    0.804</td> <td> 0.425</td> <td>   -1.788</td> <td>    4.192</td>\n",
       "</tr>\n",
       "<tr>\n",
       "  <th>Age</th>                   <td>   -2.3789</td> <td>    2.712</td> <td>   -0.877</td> <td> 0.384</td> <td>   -7.801</td> <td>    3.044</td>\n",
       "</tr>\n",
       "<tr>\n",
       "  <th>Total_Income</th>          <td>   -0.0034</td> <td>    0.010</td> <td>   -0.341</td> <td> 0.734</td> <td>   -0.024</td> <td>    0.017</td>\n",
       "</tr>\n",
       "<tr>\n",
       "  <th>Verification_Any_Yes</th>  <td>  -62.0168</td> <td>  111.850</td> <td>   -0.554</td> <td> 0.581</td> <td> -285.676</td> <td>  161.642</td>\n",
       "</tr>\n",
       "<tr>\n",
       "  <th>Marital_Status_Others</th> <td> -172.4836</td> <td>  128.612</td> <td>   -1.341</td> <td> 0.185</td> <td> -429.660</td> <td>   84.693</td>\n",
       "</tr>\n",
       "<tr>\n",
       "  <th>Marital_Status_Single</th> <td>  -99.8936</td> <td>   94.580</td> <td>   -1.056</td> <td> 0.295</td> <td> -289.018</td> <td>   89.230</td>\n",
       "</tr>\n",
       "</table>"
      ],
      "text/plain": [
       "<class 'statsmodels.iolib.table.SimpleTable'>"
      ]
     },
     "metadata": {},
     "output_type": "display_data"
    },
    {
     "name": "stdout",
     "output_type": "stream",
     "text": [
      "\n",
      "\u001b[34m*******************************************************\u001b[0m\n",
      "\n"
     ]
    }
   ],
   "source": [
    "RDD_subset_data = RDD_df[['Credit_Score', 'Gender', 'Age', 'Total_Income', 'Disbursed_Credit_Amount', \n",
    "                        'Verification_Any', 'Marital_Status', 'Above_threshold']]\n",
    "\n",
    "qual = ['Verification_Any', 'Marital_Status', 'Gender', 'Above_threshold']\n",
    "\n",
    "RDD_subset_data = pd.get_dummies(RDD_subset_data, columns = qual, drop_first = True)\n",
    "\n",
    "X = RDD_subset_data.drop(['Disbursed_Credit_Amount'], axis = 1)\n",
    "first_column = X.pop('Gender_Male')\n",
    "X.insert(0, 'Gender_Male', first_column)\n",
    "\n",
    "y = RDD_subset_data['Disbursed_Credit_Amount']\n",
    "\n",
    "add_stepwise_RDD(X, y, 'Disbursed_Credit_Amount')"
   ]
  },
  {
   "cell_type": "markdown",
   "id": "6add4535",
   "metadata": {},
   "source": [
    "***"
   ]
  },
  {
   "cell_type": "markdown",
   "id": "9e06928f",
   "metadata": {},
   "source": [
    "##### <span style='color:red'> Code 15:  </span>\n"
   ]
  },
  {
   "cell_type": "markdown",
   "id": "0e4d37f5",
   "metadata": {},
   "source": [
    "add_stepwise_RDD_Interaction is a function that lets an auditor assess the presence of bias on the thresholds of different risk categories. This function can perform both conditional and unconditional assessment. \n",
    "It helps the auditor to assess the interaction effect between 'gender' and 'above/below the threshold' variables when the outcome variable is continious. \n",
    "\n",
    "add_stepwise_RDD_Interaction takes two arguments:\n",
    "* argument 1 (X): a dataframe containing all the predictors that auditor wants to include in the model.\n",
    "\n",
    "* argument 2 (y): a series containing the outcome variable of model.\n",
    "\n",
    "* argument 3: name of the variable (loan term) that the auditor wants to assess its fairness"
   ]
  },
  {
   "cell_type": "code",
   "execution_count": 291,
   "id": "4aa5d86f",
   "metadata": {},
   "outputs": [],
   "source": [
    "def add_stepwise_RDD_Interaction(X, y, var_input):\n",
    "   \n",
    "    p_all = list(X.columns)\n",
    "    p_used = []\n",
    "    p_unused = [p for p in p_all if p not in p_used]\n",
    "            \n",
    "    r = []\n",
    "    for p in p_unused:\n",
    "        f = '{Var_of_interest} ~ {var_combination}'.format(Var_of_interest = str(var_input), var_combination = ' + '.join([p] + p_used))\n",
    "\n",
    "        \n",
    "        p_used.append(p)\n",
    "        \n",
    "        model = smf.ols(formula = f, data = pd.concat([X, y], axis = 1)).fit()\n",
    "        results_as_html_1 = model.summary().tables[1]\n",
    "        display(results_as_html_1)\n",
    "        print('')\n",
    "        print(colored('*******************************************************', 'blue'))\n",
    "        print('')    "
   ]
  },
  {
   "cell_type": "markdown",
   "id": "a9389ae2",
   "metadata": {},
   "source": [
    "##### <span style='color:orange'> Example 15:  </span>"
   ]
  },
  {
   "cell_type": "code",
   "execution_count": 292,
   "id": "83d3ba35",
   "metadata": {
    "scrolled": true
   },
   "outputs": [
    {
     "data": {
      "text/html": [
       "<table class=\"simpletable\">\n",
       "<tr>\n",
       "       <td></td>          <th>coef</th>     <th>std err</th>      <th>t</th>      <th>P>|t|</th>  <th>[0.025</th>    <th>0.975]</th>  \n",
       "</tr>\n",
       "<tr>\n",
       "  <th>Intercept</th>   <td> 2680.0370</td> <td>  137.215</td> <td>   19.532</td> <td> 0.000</td> <td> 2406.228</td> <td> 2953.846</td>\n",
       "</tr>\n",
       "<tr>\n",
       "  <th>Gender_Male</th> <td>   92.2653</td> <td>  175.072</td> <td>    0.527</td> <td> 0.600</td> <td> -257.086</td> <td>  441.617</td>\n",
       "</tr>\n",
       "</table>"
      ],
      "text/plain": [
       "<class 'statsmodels.iolib.table.SimpleTable'>"
      ]
     },
     "metadata": {},
     "output_type": "display_data"
    },
    {
     "name": "stdout",
     "output_type": "stream",
     "text": [
      "\n",
      "\u001b[34m*******************************************************\u001b[0m\n",
      "\n"
     ]
    },
    {
     "data": {
      "text/html": [
       "<table class=\"simpletable\">\n",
       "<tr>\n",
       "        <td></td>          <th>coef</th>     <th>std err</th>      <th>t</th>      <th>P>|t|</th>  <th>[0.025</th>    <th>0.975]</th>  \n",
       "</tr>\n",
       "<tr>\n",
       "  <th>Intercept</th>    <td>-2524.9957</td> <td>  567.430</td> <td>   -4.450</td> <td> 0.000</td> <td>-3657.590</td> <td>-1392.401</td>\n",
       "</tr>\n",
       "<tr>\n",
       "  <th>Credit_Score</th> <td>   11.8796</td> <td>    1.278</td> <td>    9.294</td> <td> 0.000</td> <td>    9.328</td> <td>   14.431</td>\n",
       "</tr>\n",
       "<tr>\n",
       "  <th>Gender_Male</th>  <td>  -37.7556</td> <td>  117.405</td> <td>   -0.322</td> <td> 0.749</td> <td> -272.098</td> <td>  196.586</td>\n",
       "</tr>\n",
       "</table>"
      ],
      "text/plain": [
       "<class 'statsmodels.iolib.table.SimpleTable'>"
      ]
     },
     "metadata": {},
     "output_type": "display_data"
    },
    {
     "name": "stdout",
     "output_type": "stream",
     "text": [
      "\n",
      "\u001b[34m*******************************************************\u001b[0m\n",
      "\n"
     ]
    },
    {
     "data": {
      "text/html": [
       "<table class=\"simpletable\">\n",
       "<tr>\n",
       "           <td></td>              <th>coef</th>     <th>std err</th>      <th>t</th>      <th>P>|t|</th>  <th>[0.025</th>    <th>0.975]</th>  \n",
       "</tr>\n",
       "<tr>\n",
       "  <th>Intercept</th>           <td>  590.8500</td> <td>  492.481</td> <td>    1.200</td> <td> 0.235</td> <td> -392.420</td> <td> 1574.120</td>\n",
       "</tr>\n",
       "<tr>\n",
       "  <th>Above_threshold_Yes</th> <td> 1890.0654</td> <td>  197.306</td> <td>    9.579</td> <td> 0.000</td> <td> 1496.130</td> <td> 2284.000</td>\n",
       "</tr>\n",
       "<tr>\n",
       "  <th>Gender_Male</th>         <td>   91.8131</td> <td>   77.697</td> <td>    1.182</td> <td> 0.242</td> <td>  -63.314</td> <td>  246.940</td>\n",
       "</tr>\n",
       "<tr>\n",
       "  <th>Credit_Score</th>        <td>    0.9338</td> <td>    1.414</td> <td>    0.660</td> <td> 0.511</td> <td>   -1.889</td> <td>    3.757</td>\n",
       "</tr>\n",
       "</table>"
      ],
      "text/plain": [
       "<class 'statsmodels.iolib.table.SimpleTable'>"
      ]
     },
     "metadata": {},
     "output_type": "display_data"
    },
    {
     "name": "stdout",
     "output_type": "stream",
     "text": [
      "\n",
      "\u001b[34m*******************************************************\u001b[0m\n",
      "\n"
     ]
    }
   ],
   "source": [
    "RDD_subset_data = RDD_df[['Credit_Score', 'Gender', 'Above_threshold', 'Disbursed_Credit_Amount']]\n",
    "\n",
    "qual = ['Gender', 'Above_threshold']\n",
    "\n",
    "RDD_subset_data = pd.get_dummies(RDD_subset_data, columns = qual, drop_first = True)\n",
    "\n",
    "X = RDD_subset_data.drop(['Disbursed_Credit_Amount'], axis = 1)\n",
    "first_column = X.pop('Gender_Male')\n",
    "X.insert(0, 'Gender_Male', first_column)\n",
    "\n",
    "y = RDD_subset_data['Disbursed_Credit_Amount']\n",
    "\n",
    "add_stepwise_RDD_Interaction(X, y, 'Disbursed_Credit_Amount')"
   ]
  },
  {
   "cell_type": "markdown",
   "id": "6f83c83b",
   "metadata": {},
   "source": [
    "***"
   ]
  },
  {
   "cell_type": "markdown",
   "id": "d74cd22e",
   "metadata": {},
   "source": [
    "***"
   ]
  },
  {
   "cell_type": "markdown",
   "id": "6020ef68",
   "metadata": {},
   "source": [
    "### The End!"
   ]
  },
  {
   "cell_type": "markdown",
   "id": "d1a34be9",
   "metadata": {},
   "source": [
    "**********************************"
   ]
  },
  {
   "cell_type": "markdown",
   "id": "6abda7d0",
   "metadata": {},
   "source": [
    "###### References:\n",
    "1. Corbett-Davies, S., & Goel, S. (2018). The measure and mismeasure of fairness: A critical review of fair machine learning. arXiv preprint arXiv:1808.00023.\n",
    "2. Verma, S., & Rubin, J. (2018, May). Fairness definitions explained. In 2018 ieee/acm international workshop on software fairness (fairware) (pp. 1-7). IEEE."
   ]
  }
 ],
 "metadata": {
  "kernelspec": {
   "display_name": "Python 3",
   "language": "python",
   "name": "python3"
  },
  "language_info": {
   "codemirror_mode": {
    "name": "ipython",
    "version": 3
   },
   "file_extension": ".py",
   "mimetype": "text/x-python",
   "name": "python",
   "nbconvert_exporter": "python",
   "pygments_lexer": "ipython3",
   "version": "3.8.8"
  }
 },
 "nbformat": 4,
 "nbformat_minor": 5
}
