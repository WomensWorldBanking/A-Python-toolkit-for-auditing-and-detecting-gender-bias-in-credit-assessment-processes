{
 "cells": [
  {
   "cell_type": "markdown",
   "metadata": {},
   "source": [
    "### Create a dummy dataset for gender bias audit assessment:\n",
    "\n",
    "To better understand how an auditor can use gender bias techniques in practice, in our package, we have used a dummy dataset.  This notebook shows the source code that we developed to build this dummy dataset.\n",
    "\n",
    "- Q. Do I need the dummy dataset to run the package? \n",
    "- A. No! The dummy dataset just helps you to better understand the techniques we have used to audit bias.\n",
    "\n",
    "\n",
    "- Q. Do I need to run this code to use the dummy dataset? \n",
    "- A. No. The final output of this code (the dummy data) is stored on the project GitHub page and you can download it there.\n",
    "\n",
    "\n",
    "- Q. What is the benefit of reading this code? How / where in the project I may need it? \n",
    "- A. You do not need this Jupyter notebook code to run a bias audit. However, we do recommend that you read this notebook. It helps you to better understand how we have created the dataset, the structure of the dataset, and how each variable within it was constructed.  \n",
    "\n",
    "\n",
    "- Q. What was the logic behind creating these variables and constructing the data in this way?\n",
    "- A. We tried to make this dataset look similar to the datasets that we received from our FSP partners. This dummy data consists of three main components, which are:\n",
    "\n",
    "> Input data: A dataset that an FSP uses as the main input for its credit decisions. This dataset usually contains basic demographic and socio-economic information, credit bureau data, and customer alternative data (if available).\n",
    "\n",
    "> Output data: This dataset shows whether a credit application has been approved.\n",
    "If the application is approved, the output dataset shares information on the credit terms of each approved application.\n",
    "If the application is rejected, the output dataset usually contains information on why the application was rejected.\n",
    "\n",
    "> Repayment performance data: This dataset shows the loan performance of those customers who have received loans."
   ]
  },
  {
   "cell_type": "markdown",
   "metadata": {},
   "source": [
    "### <span style = 'color:purple'> Constructing the input data   </span>"
   ]
  },
  {
   "cell_type": "markdown",
   "metadata": {},
   "source": [
    "###### Importing package and setting the directory"
   ]
  },
  {
   "cell_type": "code",
   "execution_count": 1,
   "metadata": {},
   "outputs": [],
   "source": [
    "import pandas as pd\n",
    "import random \n",
    "import numpy as np\n",
    "import uuid\n",
    "import os\n",
    "from random import randrange\n",
    "from datetime import timedelta, datetime\n",
    "\n",
    "os.chdir('C:\\\\Users\\mm\\Downloads')"
   ]
  },
  {
   "cell_type": "markdown",
   "metadata": {},
   "source": [
    "Create an empty DataFrame object\n"
   ]
  },
  {
   "cell_type": "code",
   "execution_count": 2,
   "metadata": {},
   "outputs": [],
   "source": [
    "df = pd.DataFrame()\n",
    "n = 400                                      # number of records/applications in the dataset"
   ]
  },
  {
   "cell_type": "markdown",
   "metadata": {},
   "source": [
    "Create unique applicant and application IDs variables"
   ]
  },
  {
   "cell_type": "code",
   "execution_count": 3,
   "metadata": {},
   "outputs": [],
   "source": [
    "# UUid is a module that provides immutable UUID objects (the UUID class) and the functions uuid1(), uuid3(), uuid4(), uuid5()\n",
    "# for generating version 1, 3, 4, and 5 UUIDs as specified in RFC 4122. If all you want is a unique ID (our goal here!),\n",
    "# you should probably call uuid1() or uuid4(). \n",
    "# Note that uuid1() may compromise privacy since it creates a UUID containing the computer’s network address.\n",
    "# uuid4() creates a random UUID. We have used UUID4 in this project. \n",
    "\n",
    "# create unique applicant ID\n",
    "Applicant_IDs = []\n",
    "for i in range(n):\n",
    "    Applicant_IDs.append(str(uuid.uuid4()))  # create a random UUID and then convert it to a string of hex digits in standard \n",
    "                                             # form using str function\n",
    "\n",
    "df['Applicant_ID'] = Applicant_IDs           # add the Applicant_ID variable to our dataset\n",
    "\n",
    "# create unique application ID\n",
    "Application_IDs = []\n",
    "for i in range(n):\n",
    "    Application_IDs.append(uuid.uuid4().hex) # create a random UUID and then convert it to a 32-character hexadecimal string\n",
    "\n",
    "df['Application_ID'] = Application_IDs       # add the Application_IDs variable to our dataset"
   ]
  },
  {
   "cell_type": "markdown",
   "metadata": {},
   "source": [
    "Create the credit application date variable "
   ]
  },
  {
   "cell_type": "code",
   "execution_count": 4,
   "metadata": {},
   "outputs": [],
   "source": [
    "def random_date(start, end):\n",
    "    \"\"\"\n",
    "    This function will return a random datetime between two datetime objects.\n",
    "    \"\"\"\n",
    "    delta = end - start\n",
    "    int_delta = (delta.days * 24 * 60 * 60) + delta.seconds\n",
    "    random_second = randrange(int_delta)\n",
    "    return start + timedelta(seconds=random_second)\n",
    "\n",
    "Application_Dates = []\n",
    "\n",
    "for i in range(n):\n",
    "    d1 = datetime.strptime('1/1/2019 8:00 PM', '%m/%d/%Y %I:%M %p')  \n",
    "    d2 = datetime.strptime('1/1/2020 5:00 PM', '%m/%d/%Y %I:%M %p')\n",
    "    Application_Dates.append(random_date(d1, d2))\n",
    "\n",
    "df['Application_Dates'] = Application_Dates    # add the Application_Dates variable to our dataset"
   ]
  },
  {
   "cell_type": "markdown",
   "metadata": {},
   "source": [
    "Create gender variable"
   ]
  },
  {
   "cell_type": "code",
   "execution_count": 5,
   "metadata": {},
   "outputs": [],
   "source": [
    "Gender = list(np.random.choice(a = ['Female', 'Male'], size = n, p = [0.37, 0.63]))        \n",
    "df['Gender'] = Gender                                         # add the Gender variable to our dataset"
   ]
  },
  {
   "cell_type": "markdown",
   "metadata": {},
   "source": [
    "Create the age variable"
   ]
  },
  {
   "cell_type": "code",
   "execution_count": 6,
   "metadata": {},
   "outputs": [],
   "source": [
    "# First, we create a list for the applicant's age using a normal distribution\n",
    "# We assume that our credit applicants have to be at least 18 years old and not to be older than 65.\n",
    "# Therefore, if the random generator generates an age younger than 18 or older than 65, we replace it with another\n",
    "# randomly generated age, which can be between 18 and 65.  \n",
    "\n",
    "Age = map(int, np.random.normal(40, 30, n))  # create a random normal variable with mean 40 and standard deviation of 30  \n",
    "Age = list(map(lambda x: random.randint(18, 65) if x < 18 or x > 65 else x, Age))\n",
    "df['Age'] = Age  # add the age variable to our dataset"
   ]
  },
  {
   "cell_type": "markdown",
   "metadata": {},
   "source": [
    "Create education level variable"
   ]
  },
  {
   "cell_type": "code",
   "execution_count": 7,
   "metadata": {},
   "outputs": [],
   "source": [
    "Education_Level = list(np.random.choice(a = ['Elementary school', 'High school', 'College', 'Others'],\n",
    "size = n, p = [0.3, 0.4, 0.25, 0.05]))\n",
    "df['Education_Level'] = Education_Level                         # add the Education_Level variable to our dataset"
   ]
  },
  {
   "cell_type": "markdown",
   "metadata": {},
   "source": [
    "Create marital status variable"
   ]
  },
  {
   "cell_type": "code",
   "execution_count": 8,
   "metadata": {},
   "outputs": [],
   "source": [
    "Marital_Status = list(np.random.choice(a = ['Married_Partnered', 'Single', 'Others'], size = n, p = [0.6, 0.26, 0.14])) \n",
    "df['Marital_Status'] = Marital_Status                           # add the Marital_Status variable to our dataset"
   ]
  },
  {
   "cell_type": "markdown",
   "metadata": {},
   "source": [
    "Create employment status variable"
   ]
  },
  {
   "cell_type": "code",
   "execution_count": 9,
   "metadata": {},
   "outputs": [],
   "source": [
    "Employment_Status = list(np.random.choice(a = ['Employed', 'Unemployed', 'Others'], size = n, p = [0.71, 0.12, 0.17]))\n",
    "df['Employment_Status'] = Employment_Status                     # add the Employment_Status variable to our dataset"
   ]
  },
  {
   "cell_type": "markdown",
   "metadata": {},
   "source": [
    "Create credit purpose variable"
   ]
  },
  {
   "cell_type": "code",
   "execution_count": 10,
   "metadata": {},
   "outputs": [],
   "source": [
    "Credit_Purpose = list(np.random.choice(a = ['Business', 'Family', 'Personal', 'Others'], size = n,p = [0.42, 0.31, 0.10, 0.17]))\n",
    "df['Credit_Purpose'] = Credit_Purpose                           # add the Credit_Purpose variable to our dataset"
   ]
  },
  {
   "cell_type": "markdown",
   "metadata": {},
   "source": [
    "Create new or renewal variable"
   ]
  },
  {
   "cell_type": "code",
   "execution_count": 11,
   "metadata": {},
   "outputs": [],
   "source": [
    "New_Renewal = list(np.random.choice(a = ['Yes', 'No'], size = n, p = [0.77, 0.23]))\n",
    "df['New_Renewal'] = New_Renewal                                  # add the New_Renewal variable to our dataset"
   ]
  },
  {
   "cell_type": "markdown",
   "metadata": {},
   "source": [
    "Create application channel variable"
   ]
  },
  {
   "cell_type": "code",
   "execution_count": 12,
   "metadata": {},
   "outputs": [],
   "source": [
    "Application_Channel = list(np.random.choice(a = ['Digital', 'Physical_Branch'], size = n, p = [0.55, 0.45]))\n",
    "df['Application_Channel'] = Application_Channel                  # add the Application_Channel variable to our dataset"
   ]
  },
  {
   "cell_type": "markdown",
   "metadata": {},
   "source": [
    "Create credit bureau variable"
   ]
  },
  {
   "cell_type": "code",
   "execution_count": 13,
   "metadata": {},
   "outputs": [],
   "source": [
    "Has_Any_Credit_Bureau_Data = list(np.random.choice(a = ['Yes', 'No'], size = n, p = [0.67, 0.33]))\n",
    "df['Has_Any_Credit_Bureau_Data'] = Has_Any_Credit_Bureau_Data    # add the Application_Channel variable to our dataset"
   ]
  },
  {
   "cell_type": "markdown",
   "metadata": {},
   "source": [
    "Create verification variable"
   ]
  },
  {
   "cell_type": "code",
   "execution_count": 14,
   "metadata": {},
   "outputs": [],
   "source": [
    "Verification_Any = list(np.random.choice(a = ['Yes', 'No'], size = n, p = [0.13, 0.87]))\n",
    "df['Verification_Any'] = Verification_Any             # add the Verification_Any variable to our dataset.\n",
    "                                                      # This variable shows whether an applicant had to pass extra\n",
    "                                                      # verification checks during his/her/they credit assessment.       "
   ]
  },
  {
   "cell_type": "markdown",
   "metadata": {},
   "source": [
    "Create total income variable"
   ]
  },
  {
   "cell_type": "code",
   "execution_count": 15,
   "metadata": {},
   "outputs": [],
   "source": [
    "Total_Income = map(int, np.random.normal(6000, 3500, n))  \n",
    "Total_Income = list(map(lambda x: 0 if x < 0 else x, Total_Income))\n",
    "df['Total_Income'] = Total_Income                                # add the Total_Income variable to our dataset"
   ]
  },
  {
   "cell_type": "markdown",
   "metadata": {},
   "source": [
    "Create credit score variable"
   ]
  },
  {
   "cell_type": "code",
   "execution_count": 16,
   "metadata": {},
   "outputs": [],
   "source": [
    "Credit_Score = map(int, np.random.normal(400, 200, n))  \n",
    "Credit_Score = list(map(lambda x: random.randint(250, 700) if x < 250 or x > 700 else x, Credit_Score)) \n",
    "# we assume credit score can take a value between 250 to 700.\n",
    "\n",
    "df['Credit_Score'] = Credit_Score                                # add the Credit_Score variable to our dataset"
   ]
  },
  {
   "cell_type": "markdown",
   "metadata": {},
   "source": [
    "### <span style = 'color:purple'> Constructing the output data   </span>"
   ]
  },
  {
   "cell_type": "markdown",
   "metadata": {},
   "source": [
    "Create the credit decision variable"
   ]
  },
  {
   "cell_type": "code",
   "execution_count": 17,
   "metadata": {},
   "outputs": [],
   "source": [
    "percentile_40 = np.percentile(df.Credit_Score, 40)  \n",
    "percentile_70 = np.percentile(df.Credit_Score, 70)\n",
    "\n",
    "def my_func(dt):\n",
    "    \n",
    "    # the following percentage and 40th and 70th percentile are just based on some made up assumptions with this goal\n",
    "    # in mind that we want our dataset to look similar to real world datasets.\n",
    "    \n",
    "    if (dt['Credit_Score'] <= percentile_40):\n",
    "        val = list(np.random.choice(a = ('Yes', 'No'), size = 1, p = [0.09, 0.91]))   \n",
    "    \n",
    "    elif ((dt['Credit_Score'] > percentile_40) and (dt['Credit_Score'] <= percentile_70)):\n",
    "        val = list(np.random.choice(a = ('Yes', 'No'), size = 1, p = [0.55, 0.45]))\n",
    "\n",
    "    else:\n",
    "        val = list(np.random.choice(a = ('Yes', 'No'), size = 1, p = [0.75, 0.25]))       \n",
    "    return val[0]\n",
    "\n",
    "df['Credit_Decision'] = df.apply(my_func, axis = 1)              # add the Credit_Decision variable to our dataset"
   ]
  },
  {
   "cell_type": "markdown",
   "metadata": {},
   "source": [
    "Create the loan tenure variable"
   ]
  },
  {
   "cell_type": "code",
   "execution_count": 18,
   "metadata": {},
   "outputs": [],
   "source": [
    "def my_func(dt):\n",
    "    \n",
    "    if ((dt['Credit_Score'] <= percentile_40) & (dt['Credit_Decision'] == 'Yes')):\n",
    "        val = list(map(int, np.random.normal(30, 5, 1)))  \n",
    "        val = list(map(lambda x: random.randint(6, 36) if x < 6 else x, val)) # we assume loan tenure cannot be less than 6 months\n",
    "    \n",
    "    \n",
    "    elif ((dt['Credit_Score'] > percentile_40) & (dt['Credit_Score'] <= percentile_70) & (dt['Credit_Decision'] == 'Yes')):\n",
    "        val = list(map(int, np.random.normal(22, 4, 1)))  \n",
    "        val = list(map(lambda x: random.randint(5, 30) if x < 6 else x, val)) \n",
    "    \n",
    "    elif ((dt['Credit_Score'] > percentile_70) & (dt['Credit_Decision'] == 'Yes')):\n",
    "        val = list(map(int, np.random.normal(15, 3, 1)))  \n",
    "        val = list(map(lambda x: random.randint(6, 20) if x < 6 else x, val)) \n",
    "              \n",
    "    else:\n",
    "        val = [np.nan]                                   \n",
    "    \n",
    "    return val[0]\n",
    "\n",
    "df['Loan_Tenure'] = df.apply(my_func, axis = 1)          # add the Loan_Tenure variable to our dataset"
   ]
  },
  {
   "cell_type": "markdown",
   "metadata": {},
   "source": [
    "Create the interest rate variable"
   ]
  },
  {
   "cell_type": "code",
   "execution_count": 19,
   "metadata": {},
   "outputs": [],
   "source": [
    "def my_func(dt):\n",
    "    \n",
    "    if ((dt['Credit_Score'] <= percentile_40) & (dt['Credit_Decision'] == 'Yes')):\n",
    "        val = list(map(int, np.random.normal(27, 2, 1)))  \n",
    "        val = list(map(lambda x: random.randint(22, 33) if x < 0 else x, val)) # interest rate cannot be negative. \n",
    "    \n",
    "    \n",
    "    elif ((dt['Credit_Score'] > percentile_40) & (dt['Credit_Score'] <= percentile_70) & (dt['Credit_Decision'] == 'Yes')):\n",
    "        val = list(map(int, np.random.normal(18, 3, 1)))  \n",
    "        val = list(map(lambda x: random.randint(15, 25) if x < 0 else x, val)) \n",
    "    \n",
    "    elif ((dt['Credit_Score'] > percentile_70) & (dt['Credit_Decision'] == 'Yes')):\n",
    "        val = list(map(int, np.random.normal(12, 2.5, 1)))  \n",
    "        val = list(map(lambda x: random.randint(8, 12) if x < 0 else x, val)) \n",
    "              \n",
    "    else:\n",
    "        val = [np.nan]     \n",
    "    \n",
    "    return val[0]\n",
    "\n",
    "df['Interest_Rate'] = df.apply(my_func, axis = 1)   # add the Interest_Rate variable to our dataset"
   ]
  },
  {
   "cell_type": "markdown",
   "metadata": {},
   "source": [
    "Create the disbursed credit amount variable"
   ]
  },
  {
   "cell_type": "code",
   "execution_count": 20,
   "metadata": {},
   "outputs": [],
   "source": [
    "def my_func(dt):\n",
    "    \n",
    "    if ((dt['Credit_Score'] <= percentile_40) & (dt['Credit_Decision'] == 'Yes')):\n",
    "        val = list(map(int, np.random.normal(1000, 100, 1)))  \n",
    "        val = list(map(lambda x: random.randint(800, 1200) if x < 0 else x, val)) # disbursed loan amount cannot be negative    \n",
    "    \n",
    "    elif ((dt['Credit_Score'] > percentile_40) & (dt['Credit_Score'] <= percentile_70) & (dt['Credit_Decision'] == 'Yes')):\n",
    "        val = list(map(int, np.random.normal(3000, 300, 1)))  \n",
    "        val = list(map(lambda x: random.randint(2000, 3500) if x < 0 else x, val)) \n",
    "    \n",
    "    elif ((dt['Credit_Score'] > percentile_70) & (dt['Credit_Decision'] == 'Yes')):\n",
    "        val = list(map(int, np.random.normal(7000, 100, 1)))  \n",
    "        val = list(map(lambda x: random.randint(5000, 9000) if x < 0 else x, val)) \n",
    "              \n",
    "    else:\n",
    "        val = [np.nan]       \n",
    "    \n",
    "    return val[0]\n",
    "\n",
    "df['Disbursed_Credit_Amount'] = df.apply(my_func, axis = 1)     # add the Disbursed_Credit_Amount variable to our dataset"
   ]
  },
  {
   "cell_type": "markdown",
   "metadata": {},
   "source": [
    "### <span style = 'color:purple'> Constructing the repayment data   </span>"
   ]
  },
  {
   "cell_type": "markdown",
   "metadata": {},
   "source": [
    "Create the number of days delayed variable"
   ]
  },
  {
   "cell_type": "code",
   "execution_count": 21,
   "metadata": {},
   "outputs": [],
   "source": [
    "def my_func(dt):\n",
    "    \n",
    "    if ((dt['Credit_Score'] <= percentile_40) & (dt['Credit_Decision'] == 'Yes')):\n",
    "        val = list(map(int, np.random.normal(12, 27, 1)))  \n",
    "        val = list(map(lambda x: 0 if x < 0 else x, val)) # days delay cannot be negative. \n",
    "       \n",
    "    elif ((dt['Credit_Score'] > percentile_40) & (dt['Credit_Score'] <= percentile_70) & (dt['Credit_Decision'] == 'Yes')):\n",
    "        val = list(map(int, np.random.normal(8, 19, 1)))  \n",
    "        val = list(map(lambda x: 0 if x < 0 else x, val)) \n",
    "    \n",
    "    elif ((dt['Credit_Score'] > percentile_70) & (dt['Credit_Decision'] == 'Yes')):\n",
    "        val = list(map(int, np.random.normal(4, 10, 1)))  \n",
    "        val = list(map(lambda x: 0 if x < 0 else x, val)) \n",
    "              \n",
    "    else:\n",
    "        val = [np.nan]                 \n",
    "    \n",
    "    return val[0]\n",
    "\n",
    "df['Number_of_days_delayed'] = df.apply(my_func, axis = 1)    # add the Number_of_days_delayed variable to our dataset"
   ]
  },
  {
   "cell_type": "markdown",
   "metadata": {},
   "source": [
    "***"
   ]
  },
  {
   "cell_type": "markdown",
   "metadata": {},
   "source": [
    "End."
   ]
  }
 ],
 "metadata": {
  "kernelspec": {
   "display_name": "Python 3",
   "language": "python",
   "name": "python3"
  },
  "language_info": {
   "codemirror_mode": {
    "name": "ipython",
    "version": 3
   },
   "file_extension": ".py",
   "mimetype": "text/x-python",
   "name": "python",
   "nbconvert_exporter": "python",
   "pygments_lexer": "ipython3",
   "version": "3.8.5"
  }
 },
 "nbformat": 4,
 "nbformat_minor": 5
}
